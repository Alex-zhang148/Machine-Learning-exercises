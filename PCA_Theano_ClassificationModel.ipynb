{
 "cells": [
  {
   "cell_type": "markdown",
   "metadata": {},
   "source": [
    "# Aprendizaje Automático Aplicado\n",
    "\n",
    "#### Caso 2\n",
    "#### Alumna: Lidia Cerdán Orts"
   ]
  },
  {
   "cell_type": "code",
   "execution_count": 1,
   "metadata": {},
   "outputs": [
    {
     "name": "stdout",
     "output_type": "stream",
     "text": [
      "Using matplotlib backend: Qt5Agg\n",
      "Populating the interactive namespace from numpy and matplotlib\n"
     ]
    }
   ],
   "source": [
    "%pylab\n",
    "%matplotlib inline\n",
    "import pandas as pd"
   ]
  },
  {
   "cell_type": "markdown",
   "metadata": {},
   "source": [
    "### Ejercicio 1:"
   ]
  },
  {
   "cell_type": "markdown",
   "metadata": {},
   "source": [
    "En el archivo \"diagnosis.csv\" Los datos han sido creados por un experto médico para poner a prueba un modelo que permite predecir dos enfermedades del sistema urinario. Los datos son:\n",
    "* id: identificado del registro\n",
    "* a1: temperatura del paciente\n",
    "* a2: ocurrencia de nauseas\n",
    "* a3: dolor lumbar\n",
    "* a4: necesidad continua de orinar\n",
    "* a5: dolores miccionales\n",
    "* a6: ardor de la uretra, picazón o hinchazón de la salida de la uretra\n",
    "\n",
    "Las enfermedades que se desean evaluar son:\n",
    "* d1: inflamación de la vejiga urinaria\n",
    "* d2: nefritis de origen en la pelvis renal\n",
    "\n",
    "Crear un modelo que permite predecir cada una de las enfermedades con los datos suministrados. Evaluar el rendimiento de los modelos."
   ]
  },
  {
   "cell_type": "code",
   "execution_count": 2,
   "metadata": {},
   "outputs": [
    {
     "data": {
      "text/html": [
       "<div>\n",
       "<style scoped>\n",
       "    .dataframe tbody tr th:only-of-type {\n",
       "        vertical-align: middle;\n",
       "    }\n",
       "\n",
       "    .dataframe tbody tr th {\n",
       "        vertical-align: top;\n",
       "    }\n",
       "\n",
       "    .dataframe thead th {\n",
       "        text-align: right;\n",
       "    }\n",
       "</style>\n",
       "<table border=\"1\" class=\"dataframe\">\n",
       "  <thead>\n",
       "    <tr style=\"text-align: right;\">\n",
       "      <th></th>\n",
       "      <th>id</th>\n",
       "      <th>a1</th>\n",
       "      <th>a2</th>\n",
       "      <th>a3</th>\n",
       "      <th>a4</th>\n",
       "      <th>a5</th>\n",
       "      <th>a6</th>\n",
       "      <th>d1</th>\n",
       "      <th>d2</th>\n",
       "    </tr>\n",
       "  </thead>\n",
       "  <tbody>\n",
       "    <tr>\n",
       "      <th>0</th>\n",
       "      <td>1</td>\n",
       "      <td>35.5</td>\n",
       "      <td>0</td>\n",
       "      <td>1</td>\n",
       "      <td>0</td>\n",
       "      <td>0</td>\n",
       "      <td>0</td>\n",
       "      <td>0</td>\n",
       "      <td>0</td>\n",
       "    </tr>\n",
       "    <tr>\n",
       "      <th>1</th>\n",
       "      <td>2</td>\n",
       "      <td>35.9</td>\n",
       "      <td>0</td>\n",
       "      <td>0</td>\n",
       "      <td>1</td>\n",
       "      <td>1</td>\n",
       "      <td>1</td>\n",
       "      <td>1</td>\n",
       "      <td>0</td>\n",
       "    </tr>\n",
       "    <tr>\n",
       "      <th>2</th>\n",
       "      <td>3</td>\n",
       "      <td>35.9</td>\n",
       "      <td>0</td>\n",
       "      <td>1</td>\n",
       "      <td>0</td>\n",
       "      <td>0</td>\n",
       "      <td>0</td>\n",
       "      <td>0</td>\n",
       "      <td>0</td>\n",
       "    </tr>\n",
       "    <tr>\n",
       "      <th>3</th>\n",
       "      <td>4</td>\n",
       "      <td>36.0</td>\n",
       "      <td>0</td>\n",
       "      <td>0</td>\n",
       "      <td>1</td>\n",
       "      <td>1</td>\n",
       "      <td>1</td>\n",
       "      <td>1</td>\n",
       "      <td>0</td>\n",
       "    </tr>\n",
       "    <tr>\n",
       "      <th>4</th>\n",
       "      <td>5</td>\n",
       "      <td>36.0</td>\n",
       "      <td>0</td>\n",
       "      <td>1</td>\n",
       "      <td>0</td>\n",
       "      <td>0</td>\n",
       "      <td>0</td>\n",
       "      <td>0</td>\n",
       "      <td>0</td>\n",
       "    </tr>\n",
       "  </tbody>\n",
       "</table>\n",
       "</div>"
      ],
      "text/plain": [
       "   id    a1  a2  a3  a4  a5  a6  d1  d2\n",
       "0   1  35.5   0   1   0   0   0   0   0\n",
       "1   2  35.9   0   0   1   1   1   1   0\n",
       "2   3  35.9   0   1   0   0   0   0   0\n",
       "3   4  36.0   0   0   1   1   1   1   0\n",
       "4   5  36.0   0   1   0   0   0   0   0"
      ]
     },
     "execution_count": 2,
     "metadata": {},
     "output_type": "execute_result"
    }
   ],
   "source": [
    "# importar los datos\n",
    "diagnosis = pd.read_csv('diagnosis.csv', sep=';')\n",
    "diagnosis.head(5)"
   ]
  },
  {
   "cell_type": "markdown",
   "metadata": {},
   "source": [
    "Observamos si existe la presencia de valores nulos:"
   ]
  },
  {
   "cell_type": "code",
   "execution_count": 3,
   "metadata": {},
   "outputs": [
    {
     "data": {
      "text/plain": [
       "d2    0\n",
       "d1    0\n",
       "a6    0\n",
       "a5    0\n",
       "a4    0\n",
       "a3    0\n",
       "a2    0\n",
       "a1    0\n",
       "id    0\n",
       "dtype: int64"
      ]
     },
     "execution_count": 3,
     "metadata": {},
     "output_type": "execute_result"
    }
   ],
   "source": [
    "# valores nulos\n",
    "total = diagnosis.isnull().sum().sort_values(ascending=False)\n",
    "total"
   ]
  },
  {
   "cell_type": "markdown",
   "metadata": {},
   "source": [
    "Seguidamente, veamos cuanta correlación hay entre las variables:"
   ]
  },
  {
   "cell_type": "code",
   "execution_count": 4,
   "metadata": {},
   "outputs": [
    {
     "name": "stdout",
     "output_type": "stream",
     "text": [
      "id   -0.243251\n",
      "a1   -0.236718\n",
      "a2    0.184630\n",
      "a3   -0.521251\n",
      "a4    0.695418\n",
      "a5    0.666574\n",
      "a6    0.149331\n",
      "d1    1.000000\n",
      "d2   -0.188777\n",
      "Name: d1, dtype: float64\n",
      "id    0.713408\n",
      "a1    0.737055\n",
      "a2    0.667947\n",
      "a3    0.714286\n",
      "a4    0.239046\n",
      "a5    0.149331\n",
      "a6    0.314286\n",
      "d1   -0.188777\n",
      "d2    1.000000\n",
      "Name: d2, dtype: float64\n"
     ]
    }
   ],
   "source": [
    "# correlaciones\n",
    "correlacion = diagnosis.corr()\n",
    "print(correlacion['d1'])\n",
    "print(correlacion['d2'])"
   ]
  },
  {
   "cell_type": "markdown",
   "metadata": {},
   "source": [
    "Obviando el 'id', para la enfermedad 'd1' se observa que existe una correlación positiva fuerte con las variables 'a4' y 'a5' y una correlación negativa débil con la variable 'a3.\n",
    "\n",
    "Para la enfermedad 'd2', 'a1','a2' y 'a3'son variables altamente correladas con la variable 'd2'. \n",
    "\n",
    "Posteriormente, cuando estudiemos cada caso se verá que son las que más capacidad predictiva tienen en el modelo."
   ]
  },
  {
   "cell_type": "markdown",
   "metadata": {},
   "source": [
    "#### Modelo para la enfermedad d1"
   ]
  },
  {
   "cell_type": "code",
   "execution_count": 5,
   "metadata": {},
   "outputs": [],
   "source": [
    "# separación entre variables explicativas y la variable target\n",
    "target = 'd1'\n",
    "features = list(diagnosis.columns)\n",
    "features.remove('d1')\n",
    "\n",
    "# eliminación de identificadores\n",
    "features.remove('id')"
   ]
  },
  {
   "cell_type": "markdown",
   "metadata": {},
   "source": [
    "Haremos un análisis de las variables discretas y continuas con respecto a la variable target."
   ]
  },
  {
   "cell_type": "code",
   "execution_count": 6,
   "metadata": {},
   "outputs": [
    {
     "name": "stdout",
     "output_type": "stream",
     "text": [
      "Tabla de frecuencias para: a2\n",
      "a2   0   1\n",
      "d1        \n",
      "0   51  10\n",
      "1   40  19\n",
      "\n",
      "Tabla de frecuencias para: a3\n",
      "a3   0   1\n",
      "d1        \n",
      "0   10  51\n",
      "1   40  19\n",
      "\n",
      "Tabla de frecuencias para: a4\n",
      "a4   0   1\n",
      "d1        \n",
      "0   40  21\n",
      "1    0  59\n",
      "\n",
      "Tabla de frecuencias para: a5\n",
      "a5   0   1\n",
      "d1        \n",
      "0   51  10\n",
      "1   10  49\n",
      "\n",
      "Tabla de frecuencias para: a6\n",
      "a6   0   1\n",
      "d1        \n",
      "0   40  21\n",
      "1   30  29\n",
      "\n",
      "Tabla de frecuencias para: d2\n",
      "d2   0   1\n",
      "d1        \n",
      "0   30  31\n",
      "1   40  19\n",
      "\n"
     ]
    }
   ],
   "source": [
    "# Análisis de variables discretas: tabla de frecuencias\n",
    "for var in ['a2', 'a3', 'a4', 'a5', 'a6','d2']:\n",
    "    print(\"Tabla de frecuencias para:\", var)\n",
    "    print(pd.crosstab(diagnosis[target], diagnosis[var]))\n",
    "    print()"
   ]
  },
  {
   "cell_type": "markdown",
   "metadata": {},
   "source": [
    "Observaciones:\n",
    "* Se destaca que para el síntoma a4, si no tiene dicho síntoma, no tiene la enfermedad.\n",
    "* Para los síntomas a2 y a3, es muy probable que tenga la enfermedad sin aparecer los síntomas.\n",
    "* Sólo 19/120 tenían ambas enfermedades a la vez y eran más aquellos que padecían la enfermedad d1."
   ]
  },
  {
   "cell_type": "code",
   "execution_count": 7,
   "metadata": {},
   "outputs": [
    {
     "data": {
      "text/plain": [
       "<matplotlib.axes._subplots.AxesSubplot at 0x2612da3a470>"
      ]
     },
     "execution_count": 7,
     "metadata": {},
     "output_type": "execute_result"
    },
    {
     "data": {
      "image/png": "[encoded data removed]",
      "text/plain": [
       "<matplotlib.figure.Figure at 0x2612bd7b2e8>"
      ]
     },
     "metadata": {},
     "output_type": "display_data"
    }
   ],
   "source": [
    "# Análisis de variables cuantitativas: histograma\n",
    "# variable: temperatura del paciente\n",
    "import seaborn as sns\n",
    "\n",
    "fig, axs = plt.subplots(1,2)\n",
    "sns.distplot(diagnosis['a1'][diagnosis['d1']==0], kde=False, ax=axs[0],bins=20,axlabel = \"fiebre SIN enfermedad\")\n",
    "sns.distplot(diagnosis['a1'][diagnosis['d1']==1],kde=False ,ax=axs[1],bins=20, axlabel = \"fiebre CON enfermedad\")\n"
   ]
  },
  {
   "cell_type": "markdown",
   "metadata": {},
   "source": [
    "Al comparar los histogramas observamos que cuando se tiene la enfermedad la temperatura corporal es mucho más baja.\n",
    "Esto se puede utilizar para realizar una categorización de las variables.\n",
    "\n",
    "Separaremos la fiebre en los siguientes intervalos: [36-37],[37-38.2],[38.2,39.9] y [39.9,42].\n",
    "\n",
    "El procedimiento es reemplazar la variable a1 por la variable a1 segmentada en cuatro intervalos. Así, podremos hacer un mejor entrenamiento y una mejor predicción."
   ]
  },
  {
   "cell_type": "code",
   "execution_count": 8,
   "metadata": {},
   "outputs": [],
   "source": [
    "# división en 4 de la variable a1\n",
    "diagnosis.loc[:, 'a1_grp'] = diagnosis['a1'].map(lambda x: 'n0' if x < 37 else 'n1' if x < 38.2 else 'n2' if x < 39.9 else 'n3' if x < 42 else 'n4')\n"
   ]
  },
  {
   "cell_type": "code",
   "execution_count": 9,
   "metadata": {},
   "outputs": [
    {
     "name": "stdout",
     "output_type": "stream",
     "text": [
      "a2\n",
      "a3\n",
      "a4\n",
      "a5\n",
      "a6\n",
      "d2\n",
      "a1_grp\n"
     ]
    }
   ],
   "source": [
    "# Transformación de la variable a1\n",
    "\n",
    "# Eliminamos a1 y la reemplazamos por la que hemos creado\n",
    "features.remove('a1')\n",
    "features.append('a1_grp')\n",
    "\n",
    "# # Listado de variables disponibles para hacer un modelo.\n",
    "for var in features:\n",
    "    print(var)"
   ]
  },
  {
   "cell_type": "markdown",
   "metadata": {},
   "source": [
    "#### Creación de un modelo"
   ]
  },
  {
   "cell_type": "markdown",
   "metadata": {},
   "source": [
    "Una vez transformadas las variables se puede proceder a la creación de un modelo. Para ello primero se han de crear las variables dummies, eliminar las variables colineales y separar los datos en una muestra de entrenamiento y otra de validación."
   ]
  },
  {
   "cell_type": "code",
   "execution_count": 10,
   "metadata": {},
   "outputs": [],
   "source": [
    "# Creación de variables dummies\n",
    "data_model = pd.concat((pd.get_dummies(diagnosis['a1_grp'], prefix = 'a1'),\n",
    "                        pd.get_dummies(diagnosis['a2'], prefix = 'a2'),\n",
    "                        pd.get_dummies(diagnosis['a3'], prefix = 'a3'),\n",
    "                        pd.get_dummies(diagnosis['a4'], prefix = 'a4'),\n",
    "                        pd.get_dummies(diagnosis['a5'], prefix = 'a5'),\n",
    "                        pd.get_dummies(diagnosis['a6'], prefix = 'a6'),\n",
    "                        pd.get_dummies(diagnosis['d2'], prefix = 'd2')), axis = 1)"
   ]
  },
  {
   "cell_type": "markdown",
   "metadata": {},
   "source": [
    "Veamos ahora si eliminamos alguna variable. Para ello, estudiaremos el coeficiente VIF.\n",
    "El factor de inflación de la varianza (variance inflation factor, VIF) cuantifica la multicolinealidad en un análisis de regresión. Proporciona un índice que mide cuánto se incrementa la varianza de un coeficiente de regresión estimado debido a la colinealidad. \n",
    "Aquellas variables que sobrepasen el valor 5 serán eliminadas."
   ]
  },
  {
   "cell_type": "code",
   "execution_count": 11,
   "metadata": {},
   "outputs": [
    {
     "name": "stderr",
     "output_type": "stream",
     "text": [
      "C:\\Users\\lidia\\Anaconda3\\lib\\site-packages\\ipykernel_launcher.py:22: RuntimeWarning: divide by zero encountered in double_scalars\n"
     ]
    },
    {
     "data": {
      "text/html": [
       "<div>\n",
       "<style scoped>\n",
       "    .dataframe tbody tr th:only-of-type {\n",
       "        vertical-align: middle;\n",
       "    }\n",
       "\n",
       "    .dataframe tbody tr th {\n",
       "        vertical-align: top;\n",
       "    }\n",
       "\n",
       "    .dataframe thead th {\n",
       "        text-align: right;\n",
       "    }\n",
       "</style>\n",
       "<table border=\"1\" class=\"dataframe\">\n",
       "  <thead>\n",
       "    <tr style=\"text-align: right;\">\n",
       "      <th></th>\n",
       "      <th>a1_n1</th>\n",
       "      <th>a1_n2</th>\n",
       "      <th>a1_n3</th>\n",
       "      <th>a3_1</th>\n",
       "      <th>a4_1</th>\n",
       "      <th>a5_1</th>\n",
       "      <th>a6_1</th>\n",
       "    </tr>\n",
       "  </thead>\n",
       "  <tbody>\n",
       "    <tr>\n",
       "      <th>VIF</th>\n",
       "      <td>2.398578</td>\n",
       "      <td>1.59016</td>\n",
       "      <td>2.279761</td>\n",
       "      <td>1.4493</td>\n",
       "      <td>2.184235</td>\n",
       "      <td>1.338548</td>\n",
       "      <td>1.886937</td>\n",
       "    </tr>\n",
       "  </tbody>\n",
       "</table>\n",
       "</div>"
      ],
      "text/plain": [
       "        a1_n1    a1_n2     a1_n3    a3_1      a4_1      a5_1      a6_1\n",
       "VIF  2.398578  1.59016  2.279761  1.4493  2.184235  1.338548  1.886937"
      ]
     },
     "execution_count": 11,
     "metadata": {},
     "output_type": "execute_result"
    }
   ],
   "source": [
    "# Utilizamos el programa implementado \n",
    "from sklearn.linear_model import LinearRegression\n",
    "def calculateVIF(data):\n",
    "    features = list(data.columns)\n",
    "    num_features = len(features)\n",
    "    \n",
    "    model = LinearRegression()\n",
    "    \n",
    "    result = pd.DataFrame(index = ['VIF'], columns = features)\n",
    "    result = result.fillna(0)\n",
    "    \n",
    "    for ite in range(num_features):\n",
    "        x_features = features[:]\n",
    "        y_featue = features[ite]\n",
    "        x_features.remove(y_featue)\n",
    "        \n",
    "        x = data[x_features]\n",
    "        y = data[y_featue]\n",
    "        \n",
    "        model.fit(data[x_features], data[y_featue])\n",
    "        \n",
    "        result[y_featue] = 1/(1 - model.score(data[x_features], data[y_featue]))\n",
    "    \n",
    "    return result\n",
    "\n",
    "def selectDataUsingVIF(data, max_VIF = 5):\n",
    "    result = data.copy(deep = True)\n",
    "    \n",
    "    VIF = calculateVIF(result)\n",
    "    \n",
    "    while VIF.as_matrix().max() > max_VIF:\n",
    "        col_max = np.where(VIF == VIF.as_matrix().max())[1][0]\n",
    "        features = list(result.columns)\n",
    "        features.remove(features[col_max])\n",
    "        result = result[features]\n",
    "        \n",
    "        VIF = calculateVIF(result)\n",
    "        \n",
    "    return result\n",
    "\n",
    "model_vars = selectDataUsingVIF(data_model)\n",
    "calculateVIF(model_vars)"
   ]
  },
  {
   "cell_type": "markdown",
   "metadata": {},
   "source": [
    "Se han seleccionado aquellas variables con mayor capacidad predictiva y ninguna de ellas tiene un VIF mayor que 5.\n",
    "\n",
    "Una vez seleccionadas nuestras variables, lo que haremos será hacer el procedimiento de separar el conjunto test y de entrenamiento y encontrar un modelo que mejor ajuste nuestras predicciones."
   ]
  },
  {
   "cell_type": "code",
   "execution_count": 12,
   "metadata": {},
   "outputs": [
    {
     "name": "stderr",
     "output_type": "stream",
     "text": [
      "C:\\Users\\lidia\\Anaconda3\\lib\\site-packages\\sklearn\\cross_validation.py:41: DeprecationWarning: This module was deprecated in version 0.18 in favor of the model_selection module into which all the refactored classes and functions are moved. Also note that the interface of the new CV iterators are different from that of this module. This module will be removed in 0.20.\n",
      "  \"This module will be removed in 0.20.\", DeprecationWarning)\n"
     ]
    }
   ],
   "source": [
    "from sklearn.cross_validation import train_test_split\n",
    "\n",
    "\n",
    "# separación train-test\n",
    "x_train, x_test, y_train, y_test = train_test_split(model_vars, diagnosis['d1'])\n",
    "\n",
    "# validación del modelo\n",
    "def metricas_modelos(y_true, y_pred):\n",
    "    from sklearn.metrics import accuracy_score, auc, confusion_matrix, f1_score, precision_score, recall_score, roc_curve\n",
    "\n",
    "    # Obtención de matriz de confusión\n",
    "    confusion_matrix = confusion_matrix(y_true, y_pred)\n",
    "\n",
    "    print('La matriz de confusión es')\n",
    "    print(confusion_matrix)\n",
    "\n",
    "    print('Precisión:', accuracy_score(y_true, y_pred))\n",
    "    print('Exactitud:', precision_score(y_true, y_pred))\n",
    "    print('Exhaustividad:', recall_score(y_true, y_pred))\n",
    "    print('F1:', f1_score(y_true, y_pred))\n",
    "\n",
    "    false_positive_rate, recall, thresholds = roc_curve(y_true, y_pred)\n",
    "    roc_auc = auc(false_positive_rate, recall)\n",
    "\n",
    "    print('AUC:', auc(false_positive_rate, recall))\n",
    "\n",
    "    plot(false_positive_rate, recall, 'b')\n",
    "    plot([0, 1], [0, 1], 'r--')\n",
    "    title('AUC = %0.2f' % roc_auc)\n"
   ]
  },
  {
   "cell_type": "markdown",
   "metadata": {},
   "source": [
    "Utilizaremos el modelo de Regresión Logística pues tiene una precisión muy alta:"
   ]
  },
  {
   "cell_type": "code",
   "execution_count": 13,
   "metadata": {},
   "outputs": [
    {
     "name": "stdout",
     "output_type": "stream",
     "text": [
      "La matriz de confusión es\n",
      "[[46  0]\n",
      " [ 0 44]]\n",
      "Precisión: 1.0\n",
      "Exactitud: 1.0\n",
      "Exhaustividad: 1.0\n",
      "F1: 1.0\n",
      "AUC: 1.0\n"
     ]
    },
    {
     "data": {
      "image/png": "[encoded data removed]",
      "text/plain": [
       "<matplotlib.figure.Figure at 0x26128794a90>"
      ]
     },
     "metadata": {},
     "output_type": "display_data"
    }
   ],
   "source": [
    "from sklearn.linear_model.logistic import LogisticRegression\n",
    "\n",
    "\n",
    "model = LogisticRegression().fit(x_train, y_train)\n",
    "y_pred_train = model.predict(x_train)\n",
    "y_pred_test = model.predict(x_test)\n",
    "\n",
    "# train\n",
    "metricas_modelos(y_train, y_pred_train)"
   ]
  },
  {
   "cell_type": "code",
   "execution_count": 14,
   "metadata": {},
   "outputs": [
    {
     "name": "stdout",
     "output_type": "stream",
     "text": [
      "La matriz de confusión es\n",
      "[[15  0]\n",
      " [ 0 15]]\n",
      "Precisión: 1.0\n",
      "Exactitud: 1.0\n",
      "Exhaustividad: 1.0\n",
      "F1: 1.0\n",
      "AUC: 1.0\n"
     ]
    },
    {
     "data": {
      "image/png": "[encoded data removed]",
      "text/plain": [
       "<matplotlib.figure.Figure at 0x2612bd6bf98>"
      ]
     },
     "metadata": {},
     "output_type": "display_data"
    }
   ],
   "source": [
    "# test\n",
    "metricas_modelos(y_test, y_pred_test)"
   ]
  },
  {
   "cell_type": "markdown",
   "metadata": {},
   "source": [
    "Hagamos ahora una predicción, sabiendo que las variables se disponen de la siguiente manera:"
   ]
  },
  {
   "cell_type": "code",
   "execution_count": 15,
   "metadata": {},
   "outputs": [
    {
     "data": {
      "text/html": [
       "<div>\n",
       "<style scoped>\n",
       "    .dataframe tbody tr th:only-of-type {\n",
       "        vertical-align: middle;\n",
       "    }\n",
       "\n",
       "    .dataframe tbody tr th {\n",
       "        vertical-align: top;\n",
       "    }\n",
       "\n",
       "    .dataframe thead th {\n",
       "        text-align: right;\n",
       "    }\n",
       "</style>\n",
       "<table border=\"1\" class=\"dataframe\">\n",
       "  <thead>\n",
       "    <tr style=\"text-align: right;\">\n",
       "      <th></th>\n",
       "      <th>a1_n1</th>\n",
       "      <th>a1_n2</th>\n",
       "      <th>a1_n3</th>\n",
       "      <th>a3_1</th>\n",
       "      <th>a4_1</th>\n",
       "      <th>a5_1</th>\n",
       "      <th>a6_1</th>\n",
       "    </tr>\n",
       "  </thead>\n",
       "  <tbody>\n",
       "    <tr>\n",
       "      <th>29</th>\n",
       "      <td>1</td>\n",
       "      <td>0</td>\n",
       "      <td>0</td>\n",
       "      <td>0</td>\n",
       "      <td>1</td>\n",
       "      <td>1</td>\n",
       "      <td>1</td>\n",
       "    </tr>\n",
       "    <tr>\n",
       "      <th>59</th>\n",
       "      <td>1</td>\n",
       "      <td>0</td>\n",
       "      <td>0</td>\n",
       "      <td>0</td>\n",
       "      <td>1</td>\n",
       "      <td>0</td>\n",
       "      <td>0</td>\n",
       "    </tr>\n",
       "    <tr>\n",
       "      <th>96</th>\n",
       "      <td>0</td>\n",
       "      <td>0</td>\n",
       "      <td>1</td>\n",
       "      <td>1</td>\n",
       "      <td>1</td>\n",
       "      <td>0</td>\n",
       "      <td>1</td>\n",
       "    </tr>\n",
       "    <tr>\n",
       "      <th>73</th>\n",
       "      <td>0</td>\n",
       "      <td>0</td>\n",
       "      <td>1</td>\n",
       "      <td>0</td>\n",
       "      <td>0</td>\n",
       "      <td>0</td>\n",
       "      <td>0</td>\n",
       "    </tr>\n",
       "    <tr>\n",
       "      <th>17</th>\n",
       "      <td>0</td>\n",
       "      <td>0</td>\n",
       "      <td>0</td>\n",
       "      <td>0</td>\n",
       "      <td>1</td>\n",
       "      <td>1</td>\n",
       "      <td>1</td>\n",
       "    </tr>\n",
       "  </tbody>\n",
       "</table>\n",
       "</div>"
      ],
      "text/plain": [
       "    a1_n1  a1_n2  a1_n3  a3_1  a4_1  a5_1  a6_1\n",
       "29      1      0      0     0     1     1     1\n",
       "59      1      0      0     0     1     0     0\n",
       "96      0      0      1     1     1     0     1\n",
       "73      0      0      1     0     0     0     0\n",
       "17      0      0      0     0     1     1     1"
      ]
     },
     "execution_count": 15,
     "metadata": {},
     "output_type": "execute_result"
    }
   ],
   "source": [
    "x_train.head()"
   ]
  },
  {
   "cell_type": "markdown",
   "metadata": {},
   "source": [
    "Tomamos un paciente con fiebre entre 38 y 39, y con todos los síntomas:"
   ]
  },
  {
   "cell_type": "code",
   "execution_count": 16,
   "metadata": {},
   "outputs": [
    {
     "name": "stdout",
     "output_type": "stream",
     "text": [
      "[1]\n"
     ]
    }
   ],
   "source": [
    "nueva_pred = [0,0,1,1,1,1,1]\n",
    "print(model.predict([nueva_pred]))\n"
   ]
  },
  {
   "cell_type": "markdown",
   "metadata": {},
   "source": [
    "Nos devuelve '1' que nos indica que ese paciente padece la enfermedad."
   ]
  },
  {
   "cell_type": "markdown",
   "metadata": {},
   "source": [
    "#### Modelo para la enfermedad d2"
   ]
  },
  {
   "cell_type": "markdown",
   "metadata": {},
   "source": [
    "Se procederá de manera análoga al modelo para la enfermedad d1."
   ]
  },
  {
   "cell_type": "code",
   "execution_count": 17,
   "metadata": {},
   "outputs": [],
   "source": [
    "# separación entre variables explicativas y la variable target\n",
    "target = 'd2'\n",
    "features = list(diagnosis.columns)\n",
    "features.remove('d2')\n",
    "\n",
    "# eliminación de identificadores\n",
    "features.remove('id')"
   ]
  },
  {
   "cell_type": "code",
   "execution_count": 18,
   "metadata": {},
   "outputs": [
    {
     "name": "stdout",
     "output_type": "stream",
     "text": [
      "Tabla de frecuencias para: a2\n",
      "a2   0   1\n",
      "d2        \n",
      "0   70   0\n",
      "1   21  29\n",
      "\n",
      "Tabla de frecuencias para: a3\n",
      "a3   0   1\n",
      "d2        \n",
      "0   50  20\n",
      "1    0  50\n",
      "\n",
      "Tabla de frecuencias para: a4\n",
      "a4   0   1\n",
      "d2        \n",
      "0   30  40\n",
      "1   10  40\n",
      "\n",
      "Tabla de frecuencias para: a5\n",
      "a5   0   1\n",
      "d2        \n",
      "0   40  30\n",
      "1   21  29\n",
      "\n",
      "Tabla de frecuencias para: a6\n",
      "a6   0   1\n",
      "d2        \n",
      "0   50  20\n",
      "1   20  30\n",
      "\n",
      "Tabla de frecuencias para: d1\n",
      "d1   0   1\n",
      "d2        \n",
      "0   30  40\n",
      "1   31  19\n",
      "\n"
     ]
    }
   ],
   "source": [
    "# Análisis de variables discretas: tabla de frecuencias\n",
    "for var in ['a2', 'a3', 'a4', 'a5', 'a6','d1']:\n",
    "    print(\"Tabla de frecuencias para:\", var)\n",
    "    print(pd.crosstab(diagnosis[target], diagnosis[var]))\n",
    "    print()"
   ]
  },
  {
   "cell_type": "markdown",
   "metadata": {},
   "source": [
    "Conclusiones:\n",
    "* Para el síntoma a2, no hay personas que  tengan el síntoma y no tengan la enfermedad.\n",
    "* Para el síntoma a3, si no tiene el síntoma no tiene la enfermedad."
   ]
  },
  {
   "cell_type": "code",
   "execution_count": 19,
   "metadata": {},
   "outputs": [
    {
     "data": {
      "text/plain": [
       "<matplotlib.axes._subplots.AxesSubplot at 0x2612e31c0f0>"
      ]
     },
     "execution_count": 19,
     "metadata": {},
     "output_type": "execute_result"
    },
    {
     "data": {
      "image/png": "[encoded data removed]",
      "text/plain": [
       "<matplotlib.figure.Figure at 0x2612e2de7b8>"
      ]
     },
     "metadata": {},
     "output_type": "display_data"
    }
   ],
   "source": [
    "# Análisis de variables cuantitativas: histograma\n",
    "# variable: temperatura del paciente\n",
    "import seaborn as sns\n",
    "\n",
    "fig, axs = plt.subplots(1,2)\n",
    "sns.distplot(diagnosis['a1'][diagnosis['d2']==0], kde=False, ax=axs[0],bins=20,axlabel = \"fiebre SIN enfermedad\")\n",
    "sns.distplot(diagnosis['a1'][diagnosis['d2']==1],kde=False ,ax=axs[1],bins=20, axlabel = \"fiebre CON enfermedad\")\n"
   ]
  },
  {
   "cell_type": "markdown",
   "metadata": {},
   "source": [
    "De manera análoga, haremos una segmentación de intervalos con la fiebre puesto que se observa que no hay pacientes con fiebre entre 38 y 40 que tengan la enfermedad.\n",
    "\n",
    "En este caso, también haremos cuatro intervalos:"
   ]
  },
  {
   "cell_type": "code",
   "execution_count": 25,
   "metadata": {},
   "outputs": [],
   "source": [
    "diagnosis.loc[:, 'a1_grp_2'] = diagnosis['a1'].map(lambda x: 'n0' if x < 38 else 'n1' if x < 38.5 else 'n2'if x < 40 else 'n3')"
   ]
  },
  {
   "cell_type": "code",
   "execution_count": 26,
   "metadata": {},
   "outputs": [
    {
     "data": {
      "text/plain": [
       "['a1', 'a2', 'a3', 'a4', 'a5', 'a6', 'd1', 'a1_grp']"
      ]
     },
     "execution_count": 26,
     "metadata": {},
     "output_type": "execute_result"
    }
   ],
   "source": [
    "features"
   ]
  },
  {
   "cell_type": "code",
   "execution_count": 39,
   "metadata": {},
   "outputs": [
    {
     "data": {
      "text/plain": [
       "Index(['id', 'a1', 'a2', 'a3', 'a4', 'a5', 'a6', 'd1', 'd2', 'a1_grp_2'], dtype='object')"
      ]
     },
     "execution_count": 39,
     "metadata": {},
     "output_type": "execute_result"
    }
   ],
   "source": [
    "diagnosis = diagnosis.drop('a1_grp', 1)\n",
    "diagnosis.columns"
   ]
  },
  {
   "cell_type": "code",
   "execution_count": 27,
   "metadata": {},
   "outputs": [
    {
     "name": "stdout",
     "output_type": "stream",
     "text": [
      "a1\n",
      "a2\n",
      "a3\n",
      "a4\n",
      "a5\n",
      "a6\n",
      "d1\n",
      "a1_grp_2\n"
     ]
    }
   ],
   "source": [
    "# Transformación de la variable a1\n",
    "\n",
    "# Eliminamos a1 y la reemplazamos por la que hemos creado\n",
    "features.remove('a1_grp')\n",
    "features.append('a1_grp_2')\n",
    "\n",
    "# # Listado de variables disponibles para hacer un modelo.\n",
    "for var in features:\n",
    "    print(var)"
   ]
  },
  {
   "cell_type": "code",
   "execution_count": 40,
   "metadata": {},
   "outputs": [],
   "source": [
    "# Creación de variables dummies\n",
    "data_model = pd.concat((pd.get_dummies(diagnosis['a1_grp_2'], prefix = 'a1'),\n",
    "                        pd.get_dummies(diagnosis['a2'], prefix = 'a2'),\n",
    "                        pd.get_dummies(diagnosis['a3'], prefix = 'a3'),\n",
    "                        pd.get_dummies(diagnosis['a4'], prefix = 'a4'),\n",
    "                        pd.get_dummies(diagnosis['a5'], prefix = 'a5'),\n",
    "                        pd.get_dummies(diagnosis['a6'], prefix = 'a6'),\n",
    "                        pd.get_dummies(diagnosis['d1'], prefix = 'd1')), axis = 1)"
   ]
  },
  {
   "cell_type": "code",
   "execution_count": 41,
   "metadata": {},
   "outputs": [
    {
     "name": "stderr",
     "output_type": "stream",
     "text": [
      "C:\\Users\\lidia\\Anaconda3\\lib\\site-packages\\ipykernel_launcher.py:22: RuntimeWarning: divide by zero encountered in double_scalars\n"
     ]
    },
    {
     "data": {
      "text/html": [
       "<div>\n",
       "<style scoped>\n",
       "    .dataframe tbody tr th:only-of-type {\n",
       "        vertical-align: middle;\n",
       "    }\n",
       "\n",
       "    .dataframe tbody tr th {\n",
       "        vertical-align: top;\n",
       "    }\n",
       "\n",
       "    .dataframe thead th {\n",
       "        text-align: right;\n",
       "    }\n",
       "</style>\n",
       "<table border=\"1\" class=\"dataframe\">\n",
       "  <thead>\n",
       "    <tr style=\"text-align: right;\">\n",
       "      <th></th>\n",
       "      <th>a1_n1</th>\n",
       "      <th>a1_n2</th>\n",
       "      <th>a1_n3</th>\n",
       "      <th>a3_1</th>\n",
       "      <th>a4_1</th>\n",
       "      <th>a5_1</th>\n",
       "      <th>a6_1</th>\n",
       "    </tr>\n",
       "  </thead>\n",
       "  <tbody>\n",
       "    <tr>\n",
       "      <th>VIF</th>\n",
       "      <td>1.27651</td>\n",
       "      <td>1.406752</td>\n",
       "      <td>1.40821</td>\n",
       "      <td>1.533079</td>\n",
       "      <td>1.962421</td>\n",
       "      <td>1.37592</td>\n",
       "      <td>1.747938</td>\n",
       "    </tr>\n",
       "  </tbody>\n",
       "</table>\n",
       "</div>"
      ],
      "text/plain": [
       "       a1_n1     a1_n2    a1_n3      a3_1      a4_1     a5_1      a6_1\n",
       "VIF  1.27651  1.406752  1.40821  1.533079  1.962421  1.37592  1.747938"
      ]
     },
     "execution_count": 41,
     "metadata": {},
     "output_type": "execute_result"
    }
   ],
   "source": [
    "model_vars = selectDataUsingVIF(data_model)\n",
    "calculateVIF(model_vars)"
   ]
  },
  {
   "cell_type": "code",
   "execution_count": 43,
   "metadata": {},
   "outputs": [],
   "source": [
    "# separación train-test\n",
    "x_train, x_test, y_train, y_test = train_test_split(model_vars, diagnosis['d2'])\n"
   ]
  },
  {
   "cell_type": "code",
   "execution_count": 44,
   "metadata": {},
   "outputs": [
    {
     "name": "stdout",
     "output_type": "stream",
     "text": [
      "La matriz de confusión es\n",
      "[[50  0]\n",
      " [ 0 40]]\n",
      "Precisión: 1.0\n",
      "Exactitud: 1.0\n",
      "Exhaustividad: 1.0\n",
      "F1: 1.0\n",
      "AUC: 1.0\n"
     ]
    },
    {
     "data": {
      "image/png": "[encoded data removed]",
      "text/plain": [
       "<matplotlib.figure.Figure at 0x2612e6d6d68>"
      ]
     },
     "metadata": {},
     "output_type": "display_data"
    }
   ],
   "source": [
    "from sklearn.linear_model.logistic import LogisticRegression\n",
    "\n",
    "\n",
    "model = LogisticRegression().fit(x_train, y_train)\n",
    "y_pred_train = model.predict(x_train)\n",
    "y_pred_test = model.predict(x_test)\n",
    "\n",
    "# train\n",
    "metricas_modelos(y_train, y_pred_train)"
   ]
  },
  {
   "cell_type": "code",
   "execution_count": 46,
   "metadata": {},
   "outputs": [
    {
     "name": "stdout",
     "output_type": "stream",
     "text": [
      "La matriz de confusión es\n",
      "[[20  0]\n",
      " [ 0 10]]\n",
      "Precisión: 1.0\n",
      "Exactitud: 1.0\n",
      "Exhaustividad: 1.0\n",
      "F1: 1.0\n",
      "AUC: 1.0\n"
     ]
    },
    {
     "data": {
      "image/png": "[encoded data removed]",
      "text/plain": [
       "<matplotlib.figure.Figure at 0x2612e772f98>"
      ]
     },
     "metadata": {},
     "output_type": "display_data"
    }
   ],
   "source": [
    "metricas_modelos(y_test, y_pred_test)"
   ]
  },
  {
   "cell_type": "code",
   "execution_count": 50,
   "metadata": {},
   "outputs": [
    {
     "name": "stdout",
     "output_type": "stream",
     "text": [
      "[0]\n"
     ]
    }
   ],
   "source": [
    "nueva_pred = [0,1,0,0,1,1,0]\n",
    "print(model.predict([nueva_pred]))"
   ]
  },
  {
   "cell_type": "markdown",
   "metadata": {},
   "source": [
    "# Ejercicio 2"
   ]
  },
  {
   "cell_type": "code",
   "execution_count": 51,
   "metadata": {},
   "outputs": [],
   "source": [
    "from sklearn.decomposition import PCA"
   ]
  },
  {
   "cell_type": "markdown",
   "metadata": {},
   "source": [
    "En el archivo “concrete.csv” se encuentra los datos de diferentes mezclas de hormigón. Utilizar el análisis de componentes principales y obtener el número de componentes principales con los que se puede explicar el 50%, 75% y 90% de la varianza. Obtener el porcentaje de la varianza que explica la primera componente principal."
   ]
  },
  {
   "cell_type": "code",
   "execution_count": 52,
   "metadata": {},
   "outputs": [
    {
     "data": {
      "text/html": [
       "<div>\n",
       "<style scoped>\n",
       "    .dataframe tbody tr th:only-of-type {\n",
       "        vertical-align: middle;\n",
       "    }\n",
       "\n",
       "    .dataframe tbody tr th {\n",
       "        vertical-align: top;\n",
       "    }\n",
       "\n",
       "    .dataframe thead th {\n",
       "        text-align: right;\n",
       "    }\n",
       "</style>\n",
       "<table border=\"1\" class=\"dataframe\">\n",
       "  <thead>\n",
       "    <tr style=\"text-align: right;\">\n",
       "      <th></th>\n",
       "      <th>cement</th>\n",
       "      <th>slag</th>\n",
       "      <th>ash</th>\n",
       "      <th>water</th>\n",
       "      <th>superplastic</th>\n",
       "      <th>coarseagg</th>\n",
       "      <th>fineagg</th>\n",
       "      <th>age</th>\n",
       "      <th>strength</th>\n",
       "    </tr>\n",
       "  </thead>\n",
       "  <tbody>\n",
       "    <tr>\n",
       "      <th>0</th>\n",
       "      <td>540.0</td>\n",
       "      <td>0.0</td>\n",
       "      <td>0.0</td>\n",
       "      <td>162.0</td>\n",
       "      <td>2.5</td>\n",
       "      <td>1040.0</td>\n",
       "      <td>676.0</td>\n",
       "      <td>28</td>\n",
       "      <td>79.99</td>\n",
       "    </tr>\n",
       "    <tr>\n",
       "      <th>1</th>\n",
       "      <td>540.0</td>\n",
       "      <td>0.0</td>\n",
       "      <td>0.0</td>\n",
       "      <td>162.0</td>\n",
       "      <td>2.5</td>\n",
       "      <td>1055.0</td>\n",
       "      <td>676.0</td>\n",
       "      <td>28</td>\n",
       "      <td>61.89</td>\n",
       "    </tr>\n",
       "    <tr>\n",
       "      <th>2</th>\n",
       "      <td>332.5</td>\n",
       "      <td>142.5</td>\n",
       "      <td>0.0</td>\n",
       "      <td>228.0</td>\n",
       "      <td>0.0</td>\n",
       "      <td>932.0</td>\n",
       "      <td>594.0</td>\n",
       "      <td>270</td>\n",
       "      <td>40.27</td>\n",
       "    </tr>\n",
       "    <tr>\n",
       "      <th>3</th>\n",
       "      <td>332.5</td>\n",
       "      <td>142.5</td>\n",
       "      <td>0.0</td>\n",
       "      <td>228.0</td>\n",
       "      <td>0.0</td>\n",
       "      <td>932.0</td>\n",
       "      <td>594.0</td>\n",
       "      <td>365</td>\n",
       "      <td>41.05</td>\n",
       "    </tr>\n",
       "    <tr>\n",
       "      <th>4</th>\n",
       "      <td>198.6</td>\n",
       "      <td>132.4</td>\n",
       "      <td>0.0</td>\n",
       "      <td>192.0</td>\n",
       "      <td>0.0</td>\n",
       "      <td>978.4</td>\n",
       "      <td>825.5</td>\n",
       "      <td>360</td>\n",
       "      <td>44.30</td>\n",
       "    </tr>\n",
       "  </tbody>\n",
       "</table>\n",
       "</div>"
      ],
      "text/plain": [
       "   cement   slag  ash  water  superplastic  coarseagg  fineagg  age  strength\n",
       "0   540.0    0.0  0.0  162.0           2.5     1040.0    676.0   28     79.99\n",
       "1   540.0    0.0  0.0  162.0           2.5     1055.0    676.0   28     61.89\n",
       "2   332.5  142.5  0.0  228.0           0.0      932.0    594.0  270     40.27\n",
       "3   332.5  142.5  0.0  228.0           0.0      932.0    594.0  365     41.05\n",
       "4   198.6  132.4  0.0  192.0           0.0      978.4    825.5  360     44.30"
      ]
     },
     "execution_count": 52,
     "metadata": {},
     "output_type": "execute_result"
    }
   ],
   "source": [
    "# Leemos los datos\n",
    "concrete = pd.read_csv('concrete.csv')\n",
    "concrete.head()"
   ]
  },
  {
   "cell_type": "code",
   "execution_count": 53,
   "metadata": {},
   "outputs": [
    {
     "name": "stdout",
     "output_type": "stream",
     "text": [
      "Varianza explicada con 1 componentes: 0.3249129815446272\n",
      "Varianza explicada con 2 componentes: 0.5724331282512514\n",
      "Varianza explicada con 3 componentes: 0.7560051466630762\n",
      "Varianza explicada con 4 componentes: 0.8630074198158685\n",
      "Varianza explicada con 5 componentes: 0.9634424828254187\n",
      "Varianza explicada con 6 componentes: 0.9953882736798664\n",
      "Varianza explicada con 7 componentes: 0.997959553582989\n",
      "Varianza explicada con 8 componentes: 0.9997163809073328\n",
      "Varianza explicada con 9 componentes: 0.9999999999999999\n"
     ]
    }
   ],
   "source": [
    "from sklearn.decomposition import PCA\n",
    "pca      = PCA(n_components = None)\n",
    "concrete_pca = pca.fit_transform(concrete)\n",
    "for i in range(shape(concrete_pca)[1]):\n",
    "    print(\"Varianza explicada con\", i + 1, \"componentes:\", pca.explained_variance_ratio_[range(i + 1)].sum())"
   ]
  },
  {
   "cell_type": "code",
   "execution_count": 54,
   "metadata": {},
   "outputs": [
    {
     "name": "stdout",
     "output_type": "stream",
     "text": [
      "La componente 1 explica un porcentaje de varianza de 0.42977615030632704 y  es: [ 0.90443974 -0.25467084 -0.23937562  0.00542035 -0.00112053 -0.01281057\n",
      " -0.21226345  0.10031213  0.06721449]\n",
      "La componente 2 explica un porcentaje de varianza de 0.3274053725680982 y  es: [ 0.02306241  0.78881234 -0.29906341  0.07548306 -0.00487303 -0.27609068\n",
      " -0.44648591  0.07000456  0.04008098]\n",
      "La componente 3 explica un porcentaje de varianza de 0.24281847712557478 y  es: [ 0.15204486  0.07144972 -0.04889159 -0.04206219  0.02418344 -0.75985985\n",
      "  0.61268308 -0.11771877  0.02018896]\n",
      "====================================\n",
      "vectores asociados a las componentes principales\n",
      "[ 1.54662286 -0.43549583 -0.40934049  0.00926898 -0.00191614 -0.02190651\n",
      " -0.36297775  0.17153718  0.11493908]\n",
      "[ 0.03442161  1.17733547 -0.44636467  0.11266163 -0.0072732  -0.41207691\n",
      " -0.66639893  0.10448475  0.05982254]\n",
      "[ 0.19543225  0.09183855 -0.06284325 -0.05406502  0.03108441 -0.97669282\n",
      "  0.7875178  -0.1513109   0.02595006]\n"
     ]
    }
   ],
   "source": [
    "# tomando 3 componentes, veamos cuánto explica cada componente:\n",
    "pca = PCA(n_components=3).fit(concrete)\n",
    "\n",
    "for i in range(len(pca.explained_variance_)):\n",
    "    print('La componente', i + 1, 'explica un porcentaje de varianza de', pca.explained_variance_ratio_[i] / sum(pca.explained_variance_ratio_),\n",
    "          'y  es:', pca.components_[i])\n",
    "\n",
    "print('====================================')\n",
    "print('vectores asociados a las componentes principales')\n",
    "for length, vector in zip(pca.explained_variance_ratio_, pca.components_):\n",
    "    v = vector * 3 * np.sqrt(length)\n",
    "    print(v)"
   ]
  },
  {
   "cell_type": "markdown",
   "metadata": {},
   "source": [
    "Respuesta a las preguntas:\n",
    "1. Obtener el número de componentes principales con los que se puede explicar el 50%, 75% y 90% de la varianza:\n",
    "    * Con $n=2$ explicamos el $57%$ de la varianza\n",
    "    * Con $n=3$ explicamos el $75%$ de la varianza\n",
    "    * Con $n=5$ explicamos el $96%$ de la varianza\n",
    "    \n",
    "2. Obtener el porcentaje de varianza que explica la primera componente\n",
    "    * Si seleccionamos 9 componentes principales, la primera componente explica el $32%$ de la varianza\n",
    "    * Si seleccionamos 3 componentes principales (total un $75%$ de la varianza) la primera componente de ese 75% explica un $42%."
   ]
  },
  {
   "cell_type": "markdown",
   "metadata": {},
   "source": [
    "# Ejercicio 3\n",
    "\n",
    "Crear un conjunto de datos utilizando el siguiente código:\n",
    "\n",
    "trX = np.linspace(-1, 1, 101)\n",
    "\n",
    "trY = np.linspace(-1, 1, 101)\n",
    "\n",
    "for i in range(len(trY)):\n",
    "\n",
    "    trY[i] = math.sin(0.2 * trX[i]) + math.exp(-0.7 * trX[i]) + np.random.randn() * 0.033\n",
    "\n",
    "Ahora utilizar Theano para obtener los parámetros $w_0$ y $w_1$ del modelo correspondiente.\n",
    "\n",
    "  $y = sin(w_0 * x) + exp(w_1 * x)$"
   ]
  },
  {
   "cell_type": "code",
   "execution_count": 63,
   "metadata": {},
   "outputs": [],
   "source": [
    "import theano\n",
    "import theano.tensor as T\n",
    "import math"
   ]
  },
  {
   "cell_type": "code",
   "execution_count": 65,
   "metadata": {},
   "outputs": [
    {
     "name": "stdout",
     "output_type": "stream",
     "text": [
      "En el paso 0 el valor de w_0 es -0.17228826025869748 y w_1 es -0.18514024803518223 con un coste 0.01663392121732371\n",
      "En el paso 1 el valor de w_0 es -0.20825257318723017 y w_1 es -0.2471996889290006 con un coste 0.04699678822554307\n",
      "En el paso 2 el valor de w_0 es -0.20825356863552202 y w_1 es -0.2732149569388029 con un coste 0.05632966850929366\n",
      "En el paso 3 el valor de w_0 es -0.19886901196447976 y w_1 es -0.2898427855818305 con un coste 0.057949570463224964\n",
      "En el paso 4 el valor de w_0 es -0.18693399962187301 y w_1 es -0.304259856700432 con un coste 0.057426820246291276\n",
      "En el paso 5 el valor de w_0 es -0.17419778981674053 y w_1 es -0.31829217422587536 con un coste 0.056296315173846645\n",
      "En el paso 6 el valor de w_0 es -0.16112140638225841 y w_1 es -0.3323736518938441 con un coste 0.054949693582601905\n",
      "En el paso 7 el valor de w_0 es -0.14784487333729626 y w_1 es -0.3465815138923827 con un coste 0.05348726487336894\n",
      "En el paso 8 el valor de w_0 es -0.13443069354975726 y w_1 es -0.3609007856784256 con un coste 0.05193828685324585\n",
      "En el paso 9 el valor de w_0 es -0.12092433881181328 y w_1 es -0.3752913308777066 con un coste 0.050315823137546185\n",
      "En el paso 10 el valor de w_0 es -0.1073688665317238 y w_1 es -0.38970506983049386 con un coste 0.048630103765913986\n",
      "En el paso 11 el valor de w_0 es -0.09380809375750093 y w_1 es -0.4040908122868939 con un coste 0.04689162982459362\n",
      "En el paso 12 el valor de w_0 es -0.0802869013817034 y w_1 es -0.4183960834414301 con un coste 0.04511174247606511\n",
      "En el paso 13 el valor de w_0 es -0.06685079357286045 y w_1 es -0.43256825320699444 con un coste 0.04330254565884319\n",
      "En el paso 14 el valor de w_0 es -0.053545247300772564 y w_1 es -0.44655551139443966 con un coste 0.041476647775841084\n"
     ]
    }
   ],
   "source": [
    "trX = np.linspace(-1, 1, 101)\n",
    "\n",
    "trY = np.linspace(-1, 1, 101)\n",
    "\n",
    "for i in range(len(trY)):\n",
    "\n",
    "    trY[i] = math.sin(0.2 * trX[i]) + math.exp(-0.7 * trX[i]) + np.random.randn() * 0.033\n",
    "\n",
    "X = T.scalar()\n",
    "Y = T.scalar()\n",
    "\n",
    "def model(x_1,w_0,w_1):\n",
    "    return (T.sin(w_0 * x_1) + T.exp(w_1 * x_1))\n",
    "\n",
    "\n",
    "w_0 = theano.shared(np.asarray(0., dtype = theano.config.floatX))\n",
    "w_1 = theano.shared(np.asarray(0., dtype = theano.config.floatX))\n",
    "y = model(X, w_0, w_1)\n",
    "\n",
    "cost     = T.mean(T.sqr(y - Y))\n",
    "gradient_w_0 = T.grad(cost = cost, wrt = w_0)\n",
    "gradient_w_1 = T.grad(cost = cost, wrt = w_1)\n",
    "updates  = [[w_0, w_0 - gradient_w_0 * 0.01], [w_1, w_1 - gradient_w_1 * 0.01]]\n",
    "\n",
    "train = theano.function(inputs = [X, Y],\n",
    "                        outputs = cost,\n",
    "                        updates = updates,\n",
    "                        allow_input_downcast = True)\n",
    "\n",
    "for i in range(15):\n",
    "    for x, y in zip(trX, trY):\n",
    "        cost_i = train(x, y)\n",
    "    print('En el paso', i, 'el valor de w_0 es', w_0.get_value(), 'y w_1 es', w_1.get_value(), 'con un coste', cost_i) "
   ]
  },
  {
   "cell_type": "code",
   "execution_count": null,
   "metadata": {},
   "outputs": [],
   "source": []
  }
 ],
 "metadata": {
  "kernelspec": {
   "display_name": "Python 3",
   "language": "python",
   "name": "python3"
  },
  "language_info": {
   "codemirror_mode": {
    "name": "ipython",
    "version": 3
   },
   "file_extension": ".py",
   "mimetype": "text/x-python",
   "name": "python",
   "nbconvert_exporter": "python",
   "pygments_lexer": "ipython3",
   "version": "3.6.4"
  }
 },
 "nbformat": 4,
 "nbformat_minor": 2
}
