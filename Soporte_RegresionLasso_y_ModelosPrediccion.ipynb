{
 "cells": [
  {
   "cell_type": "code",
   "execution_count": 1,
   "metadata": {},
   "outputs": [
    {
     "name": "stdout",
     "output_type": "stream",
     "text": [
      "Using matplotlib backend: Qt5Agg\n",
      "Populating the interactive namespace from numpy and matplotlib\n"
     ]
    }
   ],
   "source": [
    "%pylab\n",
    "%matplotlib inline\n",
    "import numpy as np\n",
    "import pandas as pd\n",
    "import os\n",
    "import csv\n",
    "from sklearn.linear_model import LinearRegression\n",
    "from sklearn.preprocessing import PolynomialFeatures\n",
    "from sklearn.linear_model import Lasso\n",
    "from sklearn.model_selection import train_test_split\n",
    "from sklearn.model_selection import cross_val_score\n",
    "import apriori"
   ]
  },
  {
   "cell_type": "markdown",
   "metadata": {},
   "source": [
    "## Ejercicio 1:\n"
   ]
  },
  {
   "cell_type": "markdown",
   "metadata": {},
   "source": [
    " En el archivo retail.csv hay 18.000 tickets de compra anonimizados.\n",
    " \n",
    " Cuestiones:\n",
    " 1. Obtener los conjuntos de dos, tres y cuatro elementos con mayor soporte.\n",
    " 2. Utilizando como soporte mínimo el obtenido en paso anterior para el conjunto de tres elementos, obtener todas las reglas de asociación con confianza de 0,8.\n",
    " 3. Utilizando como soporte mínimo el obtenido en el primer paso para el conjunto de cuatro elementos, obtener todas las reglas de asociación con confianza de 0,5."
   ]
  },
  {
   "cell_type": "code",
   "execution_count": 2,
   "metadata": {
    "collapsed": true
   },
   "outputs": [],
   "source": [
    "# Se importan los datos\n",
    "datos = csv.reader(open(\"retail.csv\",\"r\"))\n",
    "retail = []\n",
    "for row in datos:\n",
    "    retail.append(row)"
   ]
  },
  {
   "cell_type": "markdown",
   "metadata": {},
   "source": [
    "#### 1. Obtener los conjuntos de dos, tres y cuatro elementos con mayor soporte.\n"
   ]
  },
  {
   "cell_type": "markdown",
   "metadata": {},
   "source": [
    "Se utiliza el algoritmo apriori:"
   ]
  },
  {
   "cell_type": "code",
   "execution_count": 3,
   "metadata": {},
   "outputs": [
    {
     "name": "stdout",
     "output_type": "stream",
     "text": [
      "{8978}:  sup = 0.019\n",
      "{3966}:  sup = 0.01\n",
      "{3270}:  sup = 0.01\n",
      "{2238}:  sup = 0.016\n",
      "{1859}:  sup = 0.019\n",
      "{1715}:  sup = 0.017\n",
      "{1578}:  sup = 0.01\n",
      "{1344}:  sup = 0.017\n",
      "{1327}:  sup = 0.038\n",
      "{1233}:  sup = 0.011\n",
      "{1198}:  sup = 0.02\n",
      "{1146}:  sup = 0.021\n",
      "{1121}:  sup = 0.021\n",
      "{1034}:  sup = 0.015\n",
      "{1004}:  sup = 0.012\n",
      "{976}:  sup = 0.014\n",
      "{956}:  sup = 0.01\n",
      "{855}:  sup = 0.012\n",
      "{846}:  sup = 0.013\n",
      "{824}:  sup = 0.016\n",
      "{783}:  sup = 0.016\n",
      "{769}:  sup = 0.017\n",
      "{749}:  sup = 0.014\n",
      "{740}:  sup = 0.013\n",
      "{677}:  sup = 0.012\n",
      "{647}:  sup = 0.012\n",
      "{604}:  sup = 0.025\n",
      "{592}:  sup = 0.012\n",
      "{589}:  sup = 0.014\n",
      "{570}:  sup = 0.01\n",
      "{533}:  sup = 0.018\n",
      "{522}:  sup = 0.016\n",
      "{475}:  sup = 0.029\n",
      "{438}:  sup = 0.024\n",
      "{352}:  sup = 0.023\n",
      "{338}:  sup = 0.015\n",
      "{310}:  sup = 0.034\n",
      "{301}:  sup = 0.013\n",
      "{286}:  sup = 0.012\n",
      "{271}:  sup = 0.02\n",
      "{270}:  sup = 0.016\n",
      "{255}:  sup = 0.018\n",
      "{249}:  sup = 0.013\n",
      "{237}:  sup = 0.034\n",
      "{225}:  sup = 0.027\n",
      "{208}:  sup = 0.014\n",
      "{201}:  sup = 0.015\n",
      "{189}:  sup = 0.013\n",
      "{185}:  sup = 0.013\n",
      "{179}:  sup = 0.012\n",
      "{170}:  sup = 0.04\n",
      "{161}:  sup = 0.011\n",
      "{156}:  sup = 0.014\n",
      "{147}:  sup = 0.019\n",
      "{123}:  sup = 0.015\n",
      "{117}:  sup = 0.019\n",
      "{110}:  sup = 0.03\n",
      "{94}:  sup = 0.011\n",
      "{89}:  sup = 0.038\n",
      "{101}:  sup = 0.024\n",
      "{79}:  sup = 0.018\n",
      "{65}:  sup = 0.041\n",
      "{60}:  sup = 0.023\n",
      "{48}:  sup = 0.44\n",
      "{41}:  sup = 0.267\n",
      "{39}:  sup = 0.558\n",
      "{38}:  sup = 0.173\n",
      "{37}:  sup = 0.011\n",
      "{36}:  sup = 0.033\n",
      "{32}:  sup = 0.177\n",
      "{9}:  sup = 0.018\n",
      "{19}:  sup = 0.01\n",
      "{39, 8978}:  sup = 0.014\n",
      "{48, 8978}:  sup = 0.011\n",
      "{48, 1121}:  sup = 0.012\n",
      "{39, 2238}:  sup = 0.011\n",
      "{1327, 41}:  sup = 0.012\n",
      "{39, 1859}:  sup = 0.01\n",
      "{48, 1859}:  sup = 0.01\n",
      "{1198, 39}:  sup = 0.012\n",
      "{48, 1198}:  sup = 0.011\n",
      "{310, 41}:  sup = 0.015\n",
      "{1344, 39}:  sup = 0.011\n",
      "{39, 1327}:  sup = 0.025\n",
      "{48, 1327}:  sup = 0.019\n",
      "{48, 117}:  sup = 0.011\n",
      "{39, 1146}:  sup = 0.014\n",
      "{1146, 41}:  sup = 0.01\n",
      "{48, 1146}:  sup = 0.011\n",
      "{39, 1121}:  sup = 0.013\n",
      "{39, 352}:  sup = 0.012\n",
      "{39, 522}:  sup = 0.011\n",
      "{48, 783}:  sup = 0.01\n",
      "{39, 9}:  sup = 0.01\n",
      "{533, 39}:  sup = 0.012\n",
      "{48, 604}:  sup = 0.012\n",
      "{110, 48}:  sup = 0.013\n",
      "{41, 475}:  sup = 0.012\n",
      "{604, 39}:  sup = 0.016\n",
      "{48, 533}:  sup = 0.01\n",
      "{48, 310}:  sup = 0.021\n",
      "{170, 41}:  sup = 0.016\n",
      "{41, 225}:  sup = 0.011\n",
      "{48, 225}:  sup = 0.012\n",
      "{41, 237}:  sup = 0.011\n",
      "{39, 475}:  sup = 0.019\n",
      "{48, 475}:  sup = 0.017\n",
      "{438, 39}:  sup = 0.016\n",
      "{438, 48}:  sup = 0.012\n",
      "{65, 41}:  sup = 0.014\n",
      "{89, 41}:  sup = 0.013\n",
      "{60, 39}:  sup = 0.015\n",
      "{48, 60}:  sup = 0.011\n",
      "{48, 352}:  sup = 0.013\n",
      "{39, 310}:  sup = 0.024\n",
      "{38, 286}:  sup = 0.011\n",
      "{48, 237}:  sup = 0.018\n",
      "{270, 39}:  sup = 0.01\n",
      "{39, 271}:  sup = 0.013\n",
      "{39, 225}:  sup = 0.019\n",
      "{39, 255}:  sup = 0.012\n",
      "{48, 255}:  sup = 0.012\n",
      "{48, 65}:  sup = 0.022\n",
      "{39, 237}:  sup = 0.022\n",
      "{39, 65}:  sup = 0.023\n",
      "{38, 32}:  sup = 0.031\n",
      "{39, 32}:  sup = 0.098\n",
      "{48, 32}:  sup = 0.092\n",
      "{170, 38}:  sup = 0.039\n",
      "{170, 39}:  sup = 0.026\n",
      "{48, 170}:  sup = 0.017\n",
      "{147, 39}:  sup = 0.011\n",
      "{147, 48}:  sup = 0.011\n",
      "{39, 117}:  sup = 0.01\n",
      "{110, 38}:  sup = 0.029\n",
      "{110, 39}:  sup = 0.018\n",
      "{110, 41}:  sup = 0.011\n",
      "{39, 101}:  sup = 0.014\n",
      "{48, 101}:  sup = 0.013\n",
      "{39, 89}:  sup = 0.026\n",
      "{48, 89}:  sup = 0.026\n",
      "{48, 36}:  sup = 0.014\n",
      "{48, 41}:  sup = 0.151\n",
      "{39, 79}:  sup = 0.012\n",
      "{32, 41}:  sup = 0.059\n",
      "{48, 38}:  sup = 0.08\n",
      "{48, 39}:  sup = 0.3\n",
      "{38, 36}:  sup = 0.031\n",
      "{38, 37}:  sup = 0.011\n",
      "{39, 36}:  sup = 0.022\n",
      "{38, 39}:  sup = 0.113\n",
      "{36, 41}:  sup = 0.013\n",
      "{38, 41}:  sup = 0.07\n",
      "{39, 41}:  sup = 0.2\n",
      "{48, 39, 310}:  sup = 0.017\n",
      "{39, 310, 41}:  sup = 0.013\n",
      "{48, 310, 41}:  sup = 0.011\n",
      "{48, 39, 1327}:  sup = 0.015\n",
      "{38, 41, 32}:  sup = 0.015\n",
      "{110, 39, 48}:  sup = 0.01\n",
      "{110, 38, 48}:  sup = 0.013\n",
      "{170, 39, 41}:  sup = 0.012\n",
      "{170, 38, 41}:  sup = 0.016\n",
      "{48, 39, 475}:  sup = 0.014\n",
      "{39, 89, 41}:  sup = 0.011\n",
      "{39, 65, 41}:  sup = 0.011\n",
      "{48, 89, 41}:  sup = 0.01\n",
      "{48, 39, 237}:  sup = 0.013\n",
      "{48, 39, 65}:  sup = 0.014\n",
      "{48, 38, 32}:  sup = 0.017\n",
      "{38, 39, 32}:  sup = 0.019\n",
      "{48, 41, 32}:  sup = 0.036\n",
      "{39, 41, 32}:  sup = 0.043\n",
      "{48, 39, 32}:  sup = 0.059\n",
      "{48, 170, 39}:  sup = 0.013\n",
      "{48, 170, 38}:  sup = 0.017\n",
      "{170, 39, 38}:  sup = 0.026\n",
      "{110, 38, 41}:  sup = 0.011\n",
      "{110, 38, 39}:  sup = 0.018\n",
      "{48, 39, 89}:  sup = 0.019\n",
      "{48, 39, 41}:  sup = 0.123\n",
      "{48, 38, 41}:  sup = 0.04\n",
      "{48, 39, 36}:  sup = 0.011\n",
      "{48, 38, 36}:  sup = 0.014\n",
      "{48, 38, 39}:  sup = 0.061\n",
      "{38, 39, 41}:  sup = 0.054\n",
      "{39, 41, 36}:  sup = 0.01\n",
      "{38, 41, 36}:  sup = 0.012\n",
      "{38, 39, 36}:  sup = 0.021\n",
      "{32, 38, 39, 41}:  sup = 0.011\n",
      "{48, 110, 38, 39}:  sup = 0.01\n",
      "{38, 170, 39, 41}:  sup = 0.011\n",
      "{48, 38, 39, 32}:  sup = 0.013\n",
      "{48, 32, 39, 41}:  sup = 0.029\n",
      "{48, 38, 170, 39}:  sup = 0.013\n",
      "{48, 38, 39, 41}:  sup = 0.034\n",
      "{48, 36, 38, 39}:  sup = 0.01\n"
     ]
    }
   ],
   "source": [
    "F, soporte = apriori.apriori(retail, min_support = 0.01, verbose = True)\n"
   ]
  },
  {
   "cell_type": "markdown",
   "metadata": {},
   "source": [
    "* {48,39} es el conjunto de dos elementos con mayor soporte = 0.3\n",
    "* {41, 48, 39} es el conjunto de tres elementos con mayor soporte = 0.12\n",
    "* {48, 39, 38, 41} es el conjunto de cuatro elementos con mayor soporte = 0.034\n"
   ]
  },
  {
   "cell_type": "markdown",
   "metadata": {},
   "source": [
    "#### 2.Utilizando como soporte mínimo el obtenido en paso anterior para el conjunto de tres elementos, obtener todas las reglas de asociación con confianza de 0.8"
   ]
  },
  {
   "cell_type": "markdown",
   "metadata": {},
   "source": [
    "El soporte mínimo utilizado es $0.12$:"
   ]
  },
  {
   "cell_type": "code",
   "execution_count": 4,
   "metadata": {},
   "outputs": [
    {
     "name": "stdout",
     "output_type": "stream",
     "text": [
      "{48, 41} ---> {39}:  conf = 0.812, sup = 0.123\n"
     ]
    }
   ],
   "source": [
    "F, soporte = apriori.apriori(retail, min_support=0.12, verbose=False)\n",
    "H = apriori.generate_rules(F, soporte, min_confidence=0.8, verbose=True)"
   ]
  },
  {
   "cell_type": "markdown",
   "metadata": {},
   "source": [
    "Se interpreta esto como que si el cliente compró los productos {48,41} juntos, también compró el producto 39 en el 81% de los casos. Esto sucede en un 12% de los casos analizados."
   ]
  },
  {
   "cell_type": "markdown",
   "metadata": {},
   "source": [
    "#### 3.Utilizando como soporte mínimo el obtenido en el primer paso para el conjunto de cuatro elementos, obtener todas las reglas de asociación con confianza de 0,5."
   ]
  },
  {
   "cell_type": "code",
   "execution_count": 5,
   "metadata": {},
   "outputs": [
    {
     "name": "stdout",
     "output_type": "stream",
     "text": [
      "{32} ---> {39}:  conf = 0.552, sup = 0.098\n",
      "{32} ---> {48}:  conf = 0.517, sup = 0.092\n",
      "{170} ---> {38}:  conf = 0.984, sup = 0.039\n",
      "{41} ---> {48}:  conf = 0.566, sup = 0.151\n",
      "{39} ---> {48}:  conf = 0.537, sup = 0.3\n",
      "{48} ---> {39}:  conf = 0.682, sup = 0.3\n",
      "{38} ---> {39}:  conf = 0.651, sup = 0.113\n",
      "{41} ---> {39}:  conf = 0.749, sup = 0.2\n",
      "{32, 41} ---> {48}:  conf = 0.611, sup = 0.036\n",
      "{32, 41} ---> {39}:  conf = 0.721, sup = 0.043\n",
      "{39, 32} ---> {48}:  conf = 0.604, sup = 0.059\n",
      "{48, 32} ---> {39}:  conf = 0.645, sup = 0.059\n",
      "{39, 41} ---> {48}:  conf = 0.613, sup = 0.123\n",
      "{48, 41} ---> {39}:  conf = 0.812, sup = 0.123\n",
      "{38, 41} ---> {48}:  conf = 0.571, sup = 0.04\n",
      "{38, 39} ---> {48}:  conf = 0.544, sup = 0.061\n",
      "{48, 38} ---> {39}:  conf = 0.765, sup = 0.061\n",
      "{38, 41} ---> {39}:  conf = 0.773, sup = 0.054\n"
     ]
    }
   ],
   "source": [
    "F, soporte = apriori.apriori(retail, min_support=0.034, verbose=False)\n",
    "H = apriori.generate_rules(F, soporte, min_confidence=0.5, verbose = True)"
   ]
  },
  {
   "cell_type": "markdown",
   "metadata": {},
   "source": [
    "## Ejercicio 2"
   ]
  },
  {
   "cell_type": "markdown",
   "metadata": {},
   "source": [
    "En el conjunto de datos Baskeball.csv se encuentran las siguientes columnas para diferentes jugadores:\n",
    "* X1: altura en pies\n",
    "* X2: peso en libras\n",
    "* X3: porcentaje de tiros de campo exitosos\n",
    "* X4: porcentaje de tiros libres exitosos\n",
    "* X5: puntos promedio anotados por juego"
   ]
  },
  {
   "cell_type": "markdown",
   "metadata": {},
   "source": [
    "Intentar predecir el porcentaje de tiros de campo exitosos para un jugador en base al resto de variables utilizando la regresión lineal y regresión LASSO con parámetros alpha de 0.01, 0.1 y 0.5.\n",
    "\n",
    "Cuestiones:\n",
    "\n",
    "1. ¿Cuál es el R2 en cada caso?\n",
    "2. ¿Cuántas variables quedan disponibles al finalizar la regresión LASSO con cada valor de alpha?"
   ]
  },
  {
   "cell_type": "code",
   "execution_count": 6,
   "metadata": {},
   "outputs": [
    {
     "data": {
      "text/html": [
       "<div>\n",
       "<style>\n",
       "    .dataframe thead tr:only-child th {\n",
       "        text-align: right;\n",
       "    }\n",
       "\n",
       "    .dataframe thead th {\n",
       "        text-align: left;\n",
       "    }\n",
       "\n",
       "    .dataframe tbody tr th {\n",
       "        vertical-align: top;\n",
       "    }\n",
       "</style>\n",
       "<table border=\"1\" class=\"dataframe\">\n",
       "  <thead>\n",
       "    <tr style=\"text-align: right;\">\n",
       "      <th></th>\n",
       "      <th>altura en pies</th>\n",
       "      <th>peso en libras</th>\n",
       "      <th>porcentaje de tiros de campo exitosos</th>\n",
       "      <th>porcentaje de tiros libres exitosos</th>\n",
       "      <th>puntos promedio anotados por juego</th>\n",
       "    </tr>\n",
       "  </thead>\n",
       "  <tbody>\n",
       "    <tr>\n",
       "      <th>count</th>\n",
       "      <td>54.000000</td>\n",
       "      <td>54.000000</td>\n",
       "      <td>54.000000</td>\n",
       "      <td>54.000000</td>\n",
       "      <td>54.000000</td>\n",
       "    </tr>\n",
       "    <tr>\n",
       "      <th>mean</th>\n",
       "      <td>6.587037</td>\n",
       "      <td>209.907407</td>\n",
       "      <td>0.449111</td>\n",
       "      <td>0.741852</td>\n",
       "      <td>11.790741</td>\n",
       "    </tr>\n",
       "    <tr>\n",
       "      <th>std</th>\n",
       "      <td>0.458894</td>\n",
       "      <td>30.265036</td>\n",
       "      <td>0.056551</td>\n",
       "      <td>0.100146</td>\n",
       "      <td>5.899257</td>\n",
       "    </tr>\n",
       "    <tr>\n",
       "      <th>min</th>\n",
       "      <td>5.700000</td>\n",
       "      <td>105.000000</td>\n",
       "      <td>0.291000</td>\n",
       "      <td>0.244000</td>\n",
       "      <td>2.800000</td>\n",
       "    </tr>\n",
       "    <tr>\n",
       "      <th>25%</th>\n",
       "      <td>6.225000</td>\n",
       "      <td>185.000000</td>\n",
       "      <td>0.415250</td>\n",
       "      <td>0.713000</td>\n",
       "      <td>8.150000</td>\n",
       "    </tr>\n",
       "    <tr>\n",
       "      <th>50%</th>\n",
       "      <td>6.650000</td>\n",
       "      <td>212.500000</td>\n",
       "      <td>0.443500</td>\n",
       "      <td>0.753500</td>\n",
       "      <td>10.750000</td>\n",
       "    </tr>\n",
       "    <tr>\n",
       "      <th>75%</th>\n",
       "      <td>6.900000</td>\n",
       "      <td>235.000000</td>\n",
       "      <td>0.483500</td>\n",
       "      <td>0.795250</td>\n",
       "      <td>13.600000</td>\n",
       "    </tr>\n",
       "    <tr>\n",
       "      <th>max</th>\n",
       "      <td>7.600000</td>\n",
       "      <td>263.000000</td>\n",
       "      <td>0.599000</td>\n",
       "      <td>0.900000</td>\n",
       "      <td>27.400000</td>\n",
       "    </tr>\n",
       "  </tbody>\n",
       "</table>\n",
       "</div>"
      ],
      "text/plain": [
       "       altura en pies  peso en libras  porcentaje de tiros de campo exitosos  \\\n",
       "count       54.000000       54.000000                              54.000000   \n",
       "mean         6.587037      209.907407                               0.449111   \n",
       "std          0.458894       30.265036                               0.056551   \n",
       "min          5.700000      105.000000                               0.291000   \n",
       "25%          6.225000      185.000000                               0.415250   \n",
       "50%          6.650000      212.500000                               0.443500   \n",
       "75%          6.900000      235.000000                               0.483500   \n",
       "max          7.600000      263.000000                               0.599000   \n",
       "\n",
       "       porcentaje de tiros libres exitosos  puntos promedio anotados por juego  \n",
       "count                            54.000000                           54.000000  \n",
       "mean                              0.741852                           11.790741  \n",
       "std                               0.100146                            5.899257  \n",
       "min                               0.244000                            2.800000  \n",
       "25%                               0.713000                            8.150000  \n",
       "50%                               0.753500                           10.750000  \n",
       "75%                               0.795250                           13.600000  \n",
       "max                               0.900000                           27.400000  "
      ]
     },
     "execution_count": 6,
     "metadata": {},
     "output_type": "execute_result"
    }
   ],
   "source": [
    "# importar los datos:\n",
    "basketball = pd.read_csv('Basketball.csv')\n",
    "basketball.columns = [\"altura en pies\", \"peso en libras\", \"porcentaje de tiros de campo exitosos\", \"porcentaje de tiros libres exitosos\", \"puntos promedio anotados por juego\"]\n",
    "basketball.describe()"
   ]
  },
  {
   "cell_type": "markdown",
   "metadata": {},
   "source": [
    "Se hace una primera observación de las variables por separado con el histograma y luego la correlación entre ellas:"
   ]
  },
  {
   "cell_type": "code",
   "execution_count": 7,
   "metadata": {},
   "outputs": [
    {
     "data": {
      "text/html": [
       "<div>\n",
       "<style>\n",
       "    .dataframe thead tr:only-child th {\n",
       "        text-align: right;\n",
       "    }\n",
       "\n",
       "    .dataframe thead th {\n",
       "        text-align: left;\n",
       "    }\n",
       "\n",
       "    .dataframe tbody tr th {\n",
       "        vertical-align: top;\n",
       "    }\n",
       "</style>\n",
       "<table border=\"1\" class=\"dataframe\">\n",
       "  <thead>\n",
       "    <tr style=\"text-align: right;\">\n",
       "      <th></th>\n",
       "      <th>altura en pies</th>\n",
       "      <th>peso en libras</th>\n",
       "      <th>porcentaje de tiros de campo exitosos</th>\n",
       "      <th>porcentaje de tiros libres exitosos</th>\n",
       "      <th>puntos promedio anotados por juego</th>\n",
       "    </tr>\n",
       "  </thead>\n",
       "  <tbody>\n",
       "    <tr>\n",
       "      <th>altura en pies</th>\n",
       "      <td>1.000000</td>\n",
       "      <td>0.834324</td>\n",
       "      <td>0.495546</td>\n",
       "      <td>-0.259271</td>\n",
       "      <td>-0.068906</td>\n",
       "    </tr>\n",
       "    <tr>\n",
       "      <th>peso en libras</th>\n",
       "      <td>0.834324</td>\n",
       "      <td>1.000000</td>\n",
       "      <td>0.516051</td>\n",
       "      <td>-0.290159</td>\n",
       "      <td>-0.009844</td>\n",
       "    </tr>\n",
       "    <tr>\n",
       "      <th>porcentaje de tiros de campo exitosos</th>\n",
       "      <td>0.495546</td>\n",
       "      <td>0.516051</td>\n",
       "      <td>1.000000</td>\n",
       "      <td>-0.018570</td>\n",
       "      <td>0.338760</td>\n",
       "    </tr>\n",
       "    <tr>\n",
       "      <th>porcentaje de tiros libres exitosos</th>\n",
       "      <td>-0.259271</td>\n",
       "      <td>-0.290159</td>\n",
       "      <td>-0.018570</td>\n",
       "      <td>1.000000</td>\n",
       "      <td>0.244852</td>\n",
       "    </tr>\n",
       "    <tr>\n",
       "      <th>puntos promedio anotados por juego</th>\n",
       "      <td>-0.068906</td>\n",
       "      <td>-0.009844</td>\n",
       "      <td>0.338760</td>\n",
       "      <td>0.244852</td>\n",
       "      <td>1.000000</td>\n",
       "    </tr>\n",
       "  </tbody>\n",
       "</table>\n",
       "</div>"
      ],
      "text/plain": [
       "                                       altura en pies  peso en libras  \\\n",
       "altura en pies                               1.000000        0.834324   \n",
       "peso en libras                               0.834324        1.000000   \n",
       "porcentaje de tiros de campo exitosos        0.495546        0.516051   \n",
       "porcentaje de tiros libres exitosos         -0.259271       -0.290159   \n",
       "puntos promedio anotados por juego          -0.068906       -0.009844   \n",
       "\n",
       "                                       porcentaje de tiros de campo exitosos  \\\n",
       "altura en pies                                                      0.495546   \n",
       "peso en libras                                                      0.516051   \n",
       "porcentaje de tiros de campo exitosos                               1.000000   \n",
       "porcentaje de tiros libres exitosos                                -0.018570   \n",
       "puntos promedio anotados por juego                                  0.338760   \n",
       "\n",
       "                                       porcentaje de tiros libres exitosos  \\\n",
       "altura en pies                                                   -0.259271   \n",
       "peso en libras                                                   -0.290159   \n",
       "porcentaje de tiros de campo exitosos                            -0.018570   \n",
       "porcentaje de tiros libres exitosos                               1.000000   \n",
       "puntos promedio anotados por juego                                0.244852   \n",
       "\n",
       "                                       puntos promedio anotados por juego  \n",
       "altura en pies                                                  -0.068906  \n",
       "peso en libras                                                  -0.009844  \n",
       "porcentaje de tiros de campo exitosos                            0.338760  \n",
       "porcentaje de tiros libres exitosos                              0.244852  \n",
       "puntos promedio anotados por juego                               1.000000  "
      ]
     },
     "execution_count": 7,
     "metadata": {},
     "output_type": "execute_result"
    },
    {
     "data": {
      "image/png": "[encoded data removed]",
      "text/plain": [
       "<matplotlib.figure.Figure at 0x232f481d6a0>"
      ]
     },
     "metadata": {},
     "output_type": "display_data"
    }
   ],
   "source": [
    "basketball.hist(figsize=(10,10));\n",
    "basketball.corr()"
   ]
  },
  {
   "cell_type": "markdown",
   "metadata": {},
   "source": [
    "Se observa que 'peso en libras' es la que más correlación tiene con nuestra variable target seguida de 'altura en pies'. Se verá si haciendo una regresión lineal o una regresión LASSO se podrá crear un modelo bueno para hacer una predicción del porcentaje de tiros libres exitosos a partir del resto de variables."
   ]
  },
  {
   "cell_type": "markdown",
   "metadata": {},
   "source": [
    "En primer lugar, se separa la variable target de las variables explicativas:"
   ]
  },
  {
   "cell_type": "code",
   "execution_count": 8,
   "metadata": {
    "collapsed": true
   },
   "outputs": [],
   "source": [
    "# separación de las variables objetivo y explicativas\n",
    "target = 'porcentaje de tiros de campo exitosos'\n",
    "features = list(basketball.columns)\n",
    "features.remove('porcentaje de tiros de campo exitosos')\n",
    "\n",
    "x = basketball[features]\n",
    "y = basketball[target]"
   ]
  },
  {
   "cell_type": "markdown",
   "metadata": {},
   "source": [
    "### Regresión Lineal"
   ]
  },
  {
   "cell_type": "markdown",
   "metadata": {},
   "source": [
    "Mediante una comparativa entre un modelo con término independiente o sin término independiente, vamos a ver cuál de los dos explican la regresión, mayor $R^2$."
   ]
  },
  {
   "cell_type": "code",
   "execution_count": 9,
   "metadata": {},
   "outputs": [
    {
     "name": "stdout",
     "output_type": "stream",
     "text": [
      "R2 con término independiente: 0.411865449032\n",
      "R2 sin término independiente: 0.410791193104\n"
     ]
    }
   ],
   "source": [
    "model = LinearRegression()\n",
    "model.fit(x,y)\n",
    "print('R2 con término independiente:', model.score(x,y))\n",
    "model_sin = LinearRegression(fit_intercept = False)\n",
    "model_sin.fit(x,y)\n",
    "print('R2 sin término independiente:', model_sin.score(x,y))"
   ]
  },
  {
   "cell_type": "markdown",
   "metadata": {},
   "source": [
    "Observamos que con término independiente el modelo se ajusta mejor."
   ]
  },
  {
   "cell_type": "code",
   "execution_count": 10,
   "metadata": {},
   "outputs": [
    {
     "name": "stdout",
     "output_type": "stream",
     "text": [
      "R2: 0.411865449032\n",
      "beta_0: 0.0370424918019\n",
      "beta_1: 0.0353032646206\n",
      "beta_2: 0.000554830562716\n",
      "beta_3: 0.0320573009847\n",
      "beta_4: 0.00333141873932\n"
     ]
    }
   ],
   "source": [
    "# predicción del modelo\n",
    "predit_train = model.predict(x)\n",
    "\n",
    "# Evaluación de R2\n",
    "print('R2:', model.score(x, y))\n",
    "print('beta_0:', model.intercept_)\n",
    "print('beta_1:', model.coef_[0])\n",
    "print('beta_2:', model.coef_[1])\n",
    "print('beta_3:',model.coef_[2])\n",
    "print('beta_4:',model.coef_[3])\n"
   ]
  },
  {
   "cell_type": "markdown",
   "metadata": {},
   "source": [
    "En el caso de la regresión Lineal todas las variables se utilizarán en la creación del modelo puesto que todos los coeficientes son diferentes de cero. La recta sería $y = 0.037 + 0.035x_1 + 0005x_2 + 0.032x_4 + 0.003x_5$ siendo las variables definidas anteriormente.\n",
    "Veamos el residuo:"
   ]
  },
  {
   "cell_type": "code",
   "execution_count": 11,
   "metadata": {},
   "outputs": [
    {
     "data": {
      "text/plain": [
       "0.0009230299817622629"
      ]
     },
     "execution_count": 11,
     "metadata": {},
     "output_type": "execute_result"
    }
   ],
   "source": [
    "residuo = sum((model.predict(x) - y)**2) / (2 * len(x))\n",
    "residuo"
   ]
  },
  {
   "cell_type": "markdown",
   "metadata": {},
   "source": [
    "## Regresión Lasso"
   ]
  },
  {
   "cell_type": "code",
   "execution_count": 12,
   "metadata": {
    "scrolled": true
   },
   "outputs": [
    {
     "name": "stdout",
     "output_type": "stream",
     "text": [
      "R2 con alpha = 0.01 es:  0.383574053121\n",
      "La media de los R2 es: 0.247513222135\n",
      "Los R2 son:  [-0.0431627   0.41470454  0.37099783]\n",
      "beta_0: 0.212422351194\n",
      "beta_1: 0.0\n",
      "beta_2: 0.000958900151005\n",
      "beta_3: 0.0\n",
      "beta_4: 0.0030030780963\n",
      "residuo: 0.0009674310573470757\n",
      "número de variables disponibles: 2\n",
      "=====================\n",
      "R2 con alpha = 0.1 es:  0.28736215903\n",
      "La media de los R2 es: 0.236256928955\n",
      "Los R2 son:  [ 0.13693951  0.3141996   0.25763167]\n",
      "beta_0: 0.265629723599\n",
      "beta_1: 0.0\n",
      "beta_2: 0.000853724217049\n",
      "beta_3: 0.0\n",
      "beta_4: 0.000362856801317\n",
      "residuo: 0.0009230299817622629\n",
      "número de variables disponibles: 2\n",
      "=====================\n",
      "R2 con alpha = 0.5 es:  0.177714068234\n",
      "La media de los R2 es: 0.112406200038\n",
      "Los R2 son:  [ 0.10174773  0.17702375  0.05844713]\n",
      "beta_0: 0.363449135671\n",
      "beta_1: 0.0\n",
      "beta_2: 0.000408094104435\n",
      "beta_3: 0.0\n",
      "beta_4: 0.0\n",
      "residuo: 0.0009230299817622629\n",
      "número de variables disponibles: 1\n"
     ]
    }
   ],
   "source": [
    "# alpha = 0.01\n",
    "model_lasso = Lasso(alpha = 0.01)\n",
    "model_lasso.fit(x, y)\n",
    "predit_train = model_lasso.predict(x)\n",
    "scores = cross_val_score(model_lasso, x, y)\n",
    "residuo = sum((predit_train - y)**2) / (2 * len(x))\n",
    "print('R2 con alpha = 0.01 es: ', model_lasso.score(x, y))\n",
    "print('La media de los R2 es:', scores.mean())\n",
    "print('Los R2 son: ', scores)\n",
    "print('beta_0:', model_lasso.intercept_)\n",
    "print('beta_1:', model_lasso.coef_[0])\n",
    "print('beta_2:', model_lasso.coef_[1])\n",
    "print('beta_3:',model_lasso.coef_[2])\n",
    "print('beta_4:',model_lasso.coef_[3])\n",
    "print('residuo:', residuo)\n",
    "print('número de variables disponibles:',len(model_lasso.coef_[model_lasso.coef_ != 0]))\n",
    "print('=====================')\n",
    "\n",
    "# alpha = 0.1\n",
    "model_lasso = Lasso(alpha = 0.1)\n",
    "model_lasso.fit(x, y)\n",
    "predit_train = model_lasso.predict(x)\n",
    "scores = cross_val_score(model_lasso, x, y)\n",
    "residuo = sum((model.predict(x) - y)**2) / (2 * len(x))\n",
    "print('R2 con alpha = 0.1 es: ', model_lasso.score(x, y))\n",
    "print('La media de los R2 es:', scores.mean())\n",
    "print('Los R2 son: ', scores)\n",
    "print('beta_0:', model_lasso.intercept_)\n",
    "print('beta_1:', model_lasso.coef_[0])\n",
    "print('beta_2:', model_lasso.coef_[1])\n",
    "print('beta_3:',model_lasso.coef_[2])\n",
    "print('beta_4:',model_lasso.coef_[3])\n",
    "print('residuo:', residuo)\n",
    "print('número de variables disponibles:',len(model_lasso.coef_[model_lasso.coef_ != 0]))\n",
    "print('=====================')\n",
    "\n",
    "\n",
    "# alpha = 0.5\n",
    "model_lasso = Lasso(alpha = 0.5)\n",
    "model_lasso.fit(x, y)\n",
    "predit_train = model_lasso.predict(x)\n",
    "scores = cross_val_score(model_lasso, x, y)\n",
    "residuo = sum((model.predict(x) - y)**2) / (2 * len(x))\n",
    "print('R2 con alpha = 0.5 es: ', model_lasso.score(x, y))\n",
    "print('La media de los R2 es:', scores.mean())\n",
    "print('Los R2 son: ', scores)\n",
    "print('beta_0:', model_lasso.intercept_)\n",
    "print('beta_1:', model_lasso.coef_[0])\n",
    "print('beta_2:', model_lasso.coef_[1])\n",
    "print('beta_3:',model_lasso.coef_[2])\n",
    "print('beta_4:',model_lasso.coef_[3])\n",
    "print('residuo:', residuo)\n",
    "print('número de variables disponibles:',len(model_lasso.coef_[model_lasso.coef_ != 0]))"
   ]
  },
  {
   "cell_type": "markdown",
   "metadata": {},
   "source": [
    "Conclusiones:\n",
    "* Observamos que a mayor valor de $\\alpha$ peor será el modelo puesto que los $R^2$ son menores.\n",
    "* Con $\\alpha = 0.01$ y $\\alpha = 0.1$ las variables que nos quedan disponibles son 'peso en libras' y 'porcentaje de tiros libres exitosos' mientras que con $\\alpha = 0.5$ sólo queda disponible la variable 'peso en libras'.\n",
    "* En todos los modelos el residuo obtenido es bajo. "
   ]
  },
  {
   "cell_type": "markdown",
   "metadata": {
    "collapsed": true
   },
   "source": [
    "## Ejercicio 3"
   ]
  },
  {
   "cell_type": "markdown",
   "metadata": {},
   "source": [
    " En el archivo ionosphere.csv hay datos de la ionosfera. Las 34 primeras columnas son valores numéricos y la ultima es una etiqueta de texto con ‘g’ cuando el resultado es bueno y ‘b’ cuando es malo. Importar este conjunto de datos y crear un modelo de clasificación utilizando clasificadores regresión logística, máquinas de vector soporte y k-nn con 3 y 5 vecinos."
   ]
  },
  {
   "cell_type": "markdown",
   "metadata": {},
   "source": [
    "Los datos se han de dividir en un conjunto de entrenamiento que contenga el 80% de los datos y otro test con el resto."
   ]
  },
  {
   "cell_type": "code",
   "execution_count": 13,
   "metadata": {},
   "outputs": [
    {
     "name": "stdout",
     "output_type": "stream",
     "text": [
      "Using matplotlib backend: Qt5Agg\n",
      "Populating the interactive namespace from numpy and matplotlib\n"
     ]
    }
   ],
   "source": [
    "%pylab\n",
    "%matplotlib inline\n",
    "\n",
    "def metricas_modelos(y_true, y_pred):\n",
    "    from sklearn.metrics import accuracy_score, auc, confusion_matrix, f1_score, precision_score, recall_score, roc_curve\n",
    "\n",
    "    # Obtención de matriz de confusión\n",
    "    confusion_matrix = confusion_matrix(y_true, y_pred)\n",
    "\n",
    "    print('La matriz de confusión es')\n",
    "    print(confusion_matrix)\n",
    "\n",
    "    print('Precisión:', accuracy_score(y_true, y_pred))\n",
    "    print('Exactitud:', precision_score(y_true, y_pred))\n",
    "    print('Exhaustividad:', recall_score(y_true, y_pred))\n",
    "    print('F1:', f1_score(y_true, y_pred))\n",
    "\n",
    "    false_positive_rate, recall, thresholds = roc_curve(y_true, y_pred)\n",
    "    roc_auc = auc(false_positive_rate, recall)\n",
    "\n",
    "    print('AUC:', auc(false_positive_rate, recall))\n",
    "\n",
    "    plot(false_positive_rate, recall, 'b')\n",
    "    plot([0, 1], [0, 1], 'r--')\n",
    "    title('AUC = %0.2f' % roc_auc)"
   ]
  },
  {
   "cell_type": "code",
   "execution_count": 14,
   "metadata": {},
   "outputs": [
    {
     "data": {
      "text/html": [
       "<div>\n",
       "<style>\n",
       "    .dataframe thead tr:only-child th {\n",
       "        text-align: right;\n",
       "    }\n",
       "\n",
       "    .dataframe thead th {\n",
       "        text-align: left;\n",
       "    }\n",
       "\n",
       "    .dataframe tbody tr th {\n",
       "        vertical-align: top;\n",
       "    }\n",
       "</style>\n",
       "<table border=\"1\" class=\"dataframe\">\n",
       "  <thead>\n",
       "    <tr style=\"text-align: right;\">\n",
       "      <th></th>\n",
       "      <th>0</th>\n",
       "      <th>1</th>\n",
       "      <th>2</th>\n",
       "      <th>3</th>\n",
       "      <th>4</th>\n",
       "      <th>5</th>\n",
       "      <th>6</th>\n",
       "      <th>7</th>\n",
       "      <th>8</th>\n",
       "      <th>9</th>\n",
       "      <th>...</th>\n",
       "      <th>25</th>\n",
       "      <th>26</th>\n",
       "      <th>27</th>\n",
       "      <th>28</th>\n",
       "      <th>29</th>\n",
       "      <th>30</th>\n",
       "      <th>31</th>\n",
       "      <th>32</th>\n",
       "      <th>33</th>\n",
       "      <th>34</th>\n",
       "    </tr>\n",
       "  </thead>\n",
       "  <tbody>\n",
       "    <tr>\n",
       "      <th>0</th>\n",
       "      <td>1</td>\n",
       "      <td>0</td>\n",
       "      <td>0.99539</td>\n",
       "      <td>-0.05889</td>\n",
       "      <td>0.85243</td>\n",
       "      <td>0.02306</td>\n",
       "      <td>0.83398</td>\n",
       "      <td>-0.37708</td>\n",
       "      <td>1.00000</td>\n",
       "      <td>0.03760</td>\n",
       "      <td>...</td>\n",
       "      <td>-0.51171</td>\n",
       "      <td>0.41078</td>\n",
       "      <td>-0.46168</td>\n",
       "      <td>0.21266</td>\n",
       "      <td>-0.34090</td>\n",
       "      <td>0.42267</td>\n",
       "      <td>-0.54487</td>\n",
       "      <td>0.18641</td>\n",
       "      <td>-0.45300</td>\n",
       "      <td>1</td>\n",
       "    </tr>\n",
       "    <tr>\n",
       "      <th>1</th>\n",
       "      <td>1</td>\n",
       "      <td>0</td>\n",
       "      <td>1.00000</td>\n",
       "      <td>-0.18829</td>\n",
       "      <td>0.93035</td>\n",
       "      <td>-0.36156</td>\n",
       "      <td>-0.10868</td>\n",
       "      <td>-0.93597</td>\n",
       "      <td>1.00000</td>\n",
       "      <td>-0.04549</td>\n",
       "      <td>...</td>\n",
       "      <td>-0.26569</td>\n",
       "      <td>-0.20468</td>\n",
       "      <td>-0.18401</td>\n",
       "      <td>-0.19040</td>\n",
       "      <td>-0.11593</td>\n",
       "      <td>-0.16626</td>\n",
       "      <td>-0.06288</td>\n",
       "      <td>-0.13738</td>\n",
       "      <td>-0.02447</td>\n",
       "      <td>0</td>\n",
       "    </tr>\n",
       "    <tr>\n",
       "      <th>2</th>\n",
       "      <td>1</td>\n",
       "      <td>0</td>\n",
       "      <td>1.00000</td>\n",
       "      <td>-0.03365</td>\n",
       "      <td>1.00000</td>\n",
       "      <td>0.00485</td>\n",
       "      <td>1.00000</td>\n",
       "      <td>-0.12062</td>\n",
       "      <td>0.88965</td>\n",
       "      <td>0.01198</td>\n",
       "      <td>...</td>\n",
       "      <td>-0.40220</td>\n",
       "      <td>0.58984</td>\n",
       "      <td>-0.22145</td>\n",
       "      <td>0.43100</td>\n",
       "      <td>-0.17365</td>\n",
       "      <td>0.60436</td>\n",
       "      <td>-0.24180</td>\n",
       "      <td>0.56045</td>\n",
       "      <td>-0.38238</td>\n",
       "      <td>1</td>\n",
       "    </tr>\n",
       "    <tr>\n",
       "      <th>3</th>\n",
       "      <td>1</td>\n",
       "      <td>0</td>\n",
       "      <td>1.00000</td>\n",
       "      <td>-0.45161</td>\n",
       "      <td>1.00000</td>\n",
       "      <td>1.00000</td>\n",
       "      <td>0.71216</td>\n",
       "      <td>-1.00000</td>\n",
       "      <td>0.00000</td>\n",
       "      <td>0.00000</td>\n",
       "      <td>...</td>\n",
       "      <td>0.90695</td>\n",
       "      <td>0.51613</td>\n",
       "      <td>1.00000</td>\n",
       "      <td>1.00000</td>\n",
       "      <td>-0.20099</td>\n",
       "      <td>0.25682</td>\n",
       "      <td>1.00000</td>\n",
       "      <td>-0.32382</td>\n",
       "      <td>1.00000</td>\n",
       "      <td>0</td>\n",
       "    </tr>\n",
       "    <tr>\n",
       "      <th>4</th>\n",
       "      <td>1</td>\n",
       "      <td>0</td>\n",
       "      <td>1.00000</td>\n",
       "      <td>-0.02401</td>\n",
       "      <td>0.94140</td>\n",
       "      <td>0.06531</td>\n",
       "      <td>0.92106</td>\n",
       "      <td>-0.23255</td>\n",
       "      <td>0.77152</td>\n",
       "      <td>-0.16399</td>\n",
       "      <td>...</td>\n",
       "      <td>-0.65158</td>\n",
       "      <td>0.13290</td>\n",
       "      <td>-0.53206</td>\n",
       "      <td>0.02431</td>\n",
       "      <td>-0.62197</td>\n",
       "      <td>-0.05707</td>\n",
       "      <td>-0.59573</td>\n",
       "      <td>-0.04608</td>\n",
       "      <td>-0.65697</td>\n",
       "      <td>1</td>\n",
       "    </tr>\n",
       "  </tbody>\n",
       "</table>\n",
       "<p>5 rows × 35 columns</p>\n",
       "</div>"
      ],
      "text/plain": [
       "   0   1        2        3        4        5        6        7        8   \\\n",
       "0   1   0  0.99539 -0.05889  0.85243  0.02306  0.83398 -0.37708  1.00000   \n",
       "1   1   0  1.00000 -0.18829  0.93035 -0.36156 -0.10868 -0.93597  1.00000   \n",
       "2   1   0  1.00000 -0.03365  1.00000  0.00485  1.00000 -0.12062  0.88965   \n",
       "3   1   0  1.00000 -0.45161  1.00000  1.00000  0.71216 -1.00000  0.00000   \n",
       "4   1   0  1.00000 -0.02401  0.94140  0.06531  0.92106 -0.23255  0.77152   \n",
       "\n",
       "        9  ...       25       26       27       28       29       30       31  \\\n",
       "0  0.03760 ... -0.51171  0.41078 -0.46168  0.21266 -0.34090  0.42267 -0.54487   \n",
       "1 -0.04549 ... -0.26569 -0.20468 -0.18401 -0.19040 -0.11593 -0.16626 -0.06288   \n",
       "2  0.01198 ... -0.40220  0.58984 -0.22145  0.43100 -0.17365  0.60436 -0.24180   \n",
       "3  0.00000 ...  0.90695  0.51613  1.00000  1.00000 -0.20099  0.25682  1.00000   \n",
       "4 -0.16399 ... -0.65158  0.13290 -0.53206  0.02431 -0.62197 -0.05707 -0.59573   \n",
       "\n",
       "        32       33  34  \n",
       "0  0.18641 -0.45300   1  \n",
       "1 -0.13738 -0.02447   0  \n",
       "2  0.56045 -0.38238   1  \n",
       "3 -0.32382  1.00000   0  \n",
       "4 -0.04608 -0.65697   1  \n",
       "\n",
       "[5 rows x 35 columns]"
      ]
     },
     "execution_count": 14,
     "metadata": {},
     "output_type": "execute_result"
    }
   ],
   "source": [
    "# importar los datos\n",
    "\n",
    "ionosfera = pd.read_csv('ionosphere.csv',header=None)\n",
    "\n",
    "# transformar categórico a numérico\n",
    "resultado = {34:{\"g\": 1, \"b\": 0}}\n",
    "ionosfera.replace(resultado, inplace=True)\n",
    "ionosfera.head(5)"
   ]
  },
  {
   "cell_type": "code",
   "execution_count": 15,
   "metadata": {
    "collapsed": true
   },
   "outputs": [],
   "source": [
    "# separación entre variables explicativas y target\n",
    "target = 34\n",
    "features = list(ionosfera.columns)\n",
    "features.remove(34)\n",
    "x = ionosfera[features]\n",
    "y = ionosfera[target]\n",
    "\n",
    "x_train, x_test, y_train, y_test = train_test_split(x, y, train_size = 0.8,test_size=0.2)\n"
   ]
  },
  {
   "cell_type": "markdown",
   "metadata": {},
   "source": [
    "#### Regresión logística"
   ]
  },
  {
   "cell_type": "code",
   "execution_count": 16,
   "metadata": {},
   "outputs": [
    {
     "name": "stdout",
     "output_type": "stream",
     "text": [
      "La matriz de confusión es\n",
      "[[ 81  22]\n",
      " [  4 173]]\n",
      "Precisión: 0.907142857143\n",
      "Exactitud: 0.887179487179\n",
      "Exhaustividad: 0.977401129944\n",
      "F1: 0.930107526882\n",
      "AUC: 0.881904448467\n"
     ]
    },
    {
     "data": {
      "image/png": "[encoded data removed]",
      "text/plain": [
       "<matplotlib.figure.Figure at 0x232faf74ac8>"
      ]
     },
     "metadata": {},
     "output_type": "display_data"
    }
   ],
   "source": [
    "from sklearn.linear_model.logistic import LogisticRegression\n",
    "# conjunto train\n",
    "classifier = LogisticRegression().fit(x_train, y_train)\n",
    "y_pred     = classifier.predict(x_train)\n",
    "metricas_modelos(y_train, y_pred)\n",
    "\n"
   ]
  },
  {
   "cell_type": "code",
   "execution_count": 17,
   "metadata": {},
   "outputs": [
    {
     "name": "stdout",
     "output_type": "stream",
     "text": [
      "La matriz de confusión es\n",
      "[[15  8]\n",
      " [ 0 48]]\n",
      "Precisión: 0.887323943662\n",
      "Exactitud: 0.857142857143\n",
      "Exhaustividad: 1.0\n",
      "F1: 0.923076923077\n",
      "AUC: 0.826086956522\n"
     ]
    },
    {
     "data": {
      "image/png": "[encoded data removed]",
      "text/plain": [
       "<matplotlib.figure.Figure at 0x232fb1c7588>"
      ]
     },
     "metadata": {},
     "output_type": "display_data"
    }
   ],
   "source": [
    "# conjunto test\n",
    "y_pred = classifier.predict(x_test)\n",
    "\n",
    "metricas_modelos(y_test, y_pred)"
   ]
  },
  {
   "cell_type": "markdown",
   "metadata": {},
   "source": [
    "#### Máquinas de soporte"
   ]
  },
  {
   "cell_type": "code",
   "execution_count": 18,
   "metadata": {},
   "outputs": [
    {
     "name": "stdout",
     "output_type": "stream",
     "text": [
      "La matriz de confusión es\n",
      "[[ 90  13]\n",
      " [  2 175]]\n",
      "Precisión: 0.946428571429\n",
      "Exactitud: 0.93085106383\n",
      "Exhaustividad: 0.988700564972\n",
      "F1: 0.958904109589\n",
      "AUC: 0.931243486369\n"
     ]
    },
    {
     "data": {
      "image/png": "[encoded data removed]",
      "text/plain": [
       "<matplotlib.figure.Figure at 0x232fb21a518>"
      ]
     },
     "metadata": {},
     "output_type": "display_data"
    }
   ],
   "source": [
    "# conjunto train\n",
    "from sklearn.svm import SVC\n",
    "from sklearn.svm import SVC\n",
    "svm_classifier = SVC().fit(x_train, y_train)\n",
    "y_pred         = svm_classifier.predict(x_train)\n",
    "\n",
    "metricas_modelos(y_train, y_pred)\n"
   ]
  },
  {
   "cell_type": "code",
   "execution_count": 19,
   "metadata": {},
   "outputs": [
    {
     "name": "stdout",
     "output_type": "stream",
     "text": [
      "La matriz de confusión es\n",
      "[[17  6]\n",
      " [ 0 48]]\n",
      "Precisión: 0.915492957746\n",
      "Exactitud: 0.888888888889\n",
      "Exhaustividad: 1.0\n",
      "F1: 0.941176470588\n",
      "AUC: 0.869565217391\n"
     ]
    },
    {
     "data": {
      "image/png": "[encoded data removed]",
      "text/plain": [
       "<matplotlib.figure.Figure at 0x232fb24e748>"
      ]
     },
     "metadata": {},
     "output_type": "display_data"
    }
   ],
   "source": [
    "# conjunto test\n",
    "y_pred     = svm_classifier.predict(x_test)\n",
    "\n",
    "metricas_modelos(y_test, y_pred)"
   ]
  },
  {
   "cell_type": "markdown",
   "metadata": {},
   "source": [
    "#### K-nn 3 vecinos"
   ]
  },
  {
   "cell_type": "code",
   "execution_count": 20,
   "metadata": {},
   "outputs": [
    {
     "name": "stdout",
     "output_type": "stream",
     "text": [
      "La matriz de confusión es\n",
      "[[ 81  22]\n",
      " [  4 173]]\n",
      "Precisión: 0.907142857143\n",
      "Exactitud: 0.887179487179\n",
      "Exhaustividad: 0.977401129944\n",
      "F1: 0.930107526882\n",
      "AUC: 0.881904448467\n"
     ]
    },
    {
     "data": {
      "image/png": "[encoded data removed]",
      "text/plain": [
       "<matplotlib.figure.Figure at 0x232fae852e8>"
      ]
     },
     "metadata": {},
     "output_type": "display_data"
    }
   ],
   "source": [
    "from sklearn.neighbors import KNeighborsClassifier\n",
    "\n",
    "# Creamos el modelo sin entrenar:\n",
    "Knn = KNeighborsClassifier(n_neighbors = 3)\n",
    "\n",
    "\n",
    "# conjunto train\n",
    "Knn_classifier = Knn.fit(x_train, y_train)\n",
    "y_pred     = classifier.predict(x_train)\n",
    "metricas_modelos(y_train, y_pred)\n"
   ]
  },
  {
   "cell_type": "code",
   "execution_count": 21,
   "metadata": {},
   "outputs": [
    {
     "name": "stdout",
     "output_type": "stream",
     "text": [
      "La matriz de confusión es\n",
      "[[12 11]\n",
      " [ 2 46]]\n",
      "Precisión: 0.816901408451\n",
      "Exactitud: 0.80701754386\n",
      "Exhaustividad: 0.958333333333\n",
      "F1: 0.87619047619\n",
      "AUC: 0.740036231884\n"
     ]
    },
    {
     "data": {
      "image/png": "[encoded data removed]",
      "text/plain": [
       "<matplotlib.figure.Figure at 0x232fb15e160>"
      ]
     },
     "metadata": {},
     "output_type": "display_data"
    }
   ],
   "source": [
    "# conjunto test\n",
    "y_pred     = Knn_classifier.predict(x_test)\n",
    "\n",
    "metricas_modelos(y_test, y_pred)"
   ]
  },
  {
   "cell_type": "markdown",
   "metadata": {},
   "source": [
    "#### K-nn 5 vecinos"
   ]
  },
  {
   "cell_type": "code",
   "execution_count": 22,
   "metadata": {},
   "outputs": [
    {
     "name": "stdout",
     "output_type": "stream",
     "text": [
      "La matriz de confusión es\n",
      "[[ 81  22]\n",
      " [  4 173]]\n",
      "Precisión: 0.907142857143\n",
      "Exactitud: 0.887179487179\n",
      "Exhaustividad: 0.977401129944\n",
      "F1: 0.930107526882\n",
      "AUC: 0.881904448467\n"
     ]
    },
    {
     "data": {
      "image/png": "[encoded data removed]",
      "text/plain": [
       "<matplotlib.figure.Figure at 0x232fb14ed68>"
      ]
     },
     "metadata": {},
     "output_type": "display_data"
    }
   ],
   "source": [
    "# Creamos el modelo sin entrenar:\n",
    "Knn = KNeighborsClassifier(n_neighbors = 5)\n",
    "\n",
    "\n",
    "# conjunto train\n",
    "Knn_classifier = Knn.fit(x_train, y_train)\n",
    "y_pred     = classifier.predict(x_train)\n",
    "metricas_modelos(y_train, y_pred)"
   ]
  },
  {
   "cell_type": "code",
   "execution_count": 23,
   "metadata": {},
   "outputs": [
    {
     "name": "stdout",
     "output_type": "stream",
     "text": [
      "La matriz de confusión es\n",
      "[[10 13]\n",
      " [ 2 46]]\n",
      "Precisión: 0.788732394366\n",
      "Exactitud: 0.779661016949\n",
      "Exhaustividad: 0.958333333333\n",
      "F1: 0.859813084112\n",
      "AUC: 0.696557971014\n"
     ]
    },
    {
     "data": {
      "image/png": "[encoded data removed]",
      "text/plain": [
       "<matplotlib.figure.Figure at 0x232fb2469b0>"
      ]
     },
     "metadata": {},
     "output_type": "display_data"
    }
   ],
   "source": [
    "# conjunto test\n",
    "y_pred     = Knn_classifier.predict(x_test)\n",
    "\n",
    "metricas_modelos(y_test, y_pred)"
   ]
  },
  {
   "cell_type": "markdown",
   "metadata": {
    "collapsed": true
   },
   "source": [
    "Cuestiones:\n",
    "\n",
    "Las respuestas se basan en los resultados obtenidos para los conjuntos test.\n",
    "#### 1. ¿Qué clasificador muestra una mayor precisión?\n",
    "\n"
   ]
  },
  {
   "cell_type": "markdown",
   "metadata": {
    "collapsed": true
   },
   "source": [
    "El clasificador que muestra una mayor precisión son las Máquinas de soporte creando un hiperplano que separe de forma óptima a los puntos de una clase de la de otra, en este caso, resultado bueno o resultado malo. "
   ]
  },
  {
   "cell_type": "markdown",
   "metadata": {},
   "source": [
    "#### 2. ¿Qué clasificador muestra un menor error de tipo I?"
   ]
  },
  {
   "cell_type": "markdown",
   "metadata": {},
   "source": [
    "En este caso, hay un menor número de falsos positivos en las Máquinas de soporte. "
   ]
  },
  {
   "cell_type": "markdown",
   "metadata": {},
   "source": [
    "#### 3.¿Qué clasificador muestra un menor error de tipo II?"
   ]
  },
  {
   "cell_type": "markdown",
   "metadata": {},
   "source": [
    "De nuevo, hay un menor número de falsos negativos en las máquinas de soporte y regresión logística."
   ]
  },
  {
   "cell_type": "markdown",
   "metadata": {},
   "source": [
    "** nota** : Si lanzamos el código más de una vez la partición del conjunto train y test cambia entonces los resultados pueden variar en el caso del error de tipo II."
   ]
  }
 ],
 "metadata": {
  "kernelspec": {
   "display_name": "Python 3",
   "language": "python",
   "name": "python3"
  },
  "language_info": {
   "codemirror_mode": {
    "name": "ipython",
    "version": 3
   },
   "file_extension": ".py",
   "mimetype": "text/x-python",
   "name": "python",
   "nbconvert_exporter": "python",
   "pygments_lexer": "ipython3",
   "version": "3.6.5"
  }
 },
 "nbformat": 4,
 "nbformat_minor": 2
}
